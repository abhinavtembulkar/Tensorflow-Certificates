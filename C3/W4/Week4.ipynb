{
 "cells": [
  {
   "cell_type": "markdown",
   "metadata": {},
   "source": [
    "# Text Generation\n",
    "In this notebook, we will generate a poem from text we have been given."
   ]
  },
  {
   "cell_type": "markdown",
   "metadata": {},
   "source": [
    "## Imports"
   ]
  },
  {
   "cell_type": "code",
   "execution_count": 145,
   "metadata": {},
   "outputs": [],
   "source": [
    "import numpy as np\n",
    "import tensorflow as tf\n",
    "from tensorflow.keras.preprocessing.text import Tokenizer\n",
    "from tensorflow.keras.preprocessing.sequence import pad_sequences\n",
    "from tensorflow.keras import Sequential\n",
    "from tensorflow.keras.layers import Dense, Embedding, LSTM, Bidirectional"
   ]
  },
  {
   "cell_type": "markdown",
   "metadata": {},
   "source": [
    "## Data preprocessing"
   ]
  },
  {
   "cell_type": "code",
   "execution_count": 146,
   "metadata": {},
   "outputs": [
    {
     "name": "stdout",
     "output_type": "stream",
     "text": [
      "71\n",
      "['in the town of athy one jeremy lanigan', \"battered away 'til he hadn't a pound.\", 'his father died and made him a man again', 'left him a farm and ten acres of ground.', 'he gave a grand party for friends and relations', \"who didn't forget him when come to the wall,\", \"and if you'll but listen i'll make your eyes glisten\", \"of the rows and the ructions of lanigan's ball.\", '', 'myself to be sure got free invitation,', 'for all the nice girls and boys i might ask,', 'and just in a minute both friends and relations', \"were dancing 'round merry as bees 'round a cask.\", \"judy o'daly, that nice little milliner,\", 'she tipped me a wink for to give her a call,', 'and i soon arrived with peggy mcgilligan', \"just in time for lanigan's ball.\", '', 'there were lashings of punch and wine for the ladies,', 'potatoes and cakes; there was bacon and tea,', \"there were the nolans, dolans, o'gradys\", 'courting the girls and dancing away.', \"songs they went 'round as plenty as water,\", \"the harp that once sounded in tara's old hall,\", \"sweet nelly gray and the rat catcher's daughter,\", \"all singing together at lanigan's ball.\", '', 'they were doing all kinds of nonsensical polkas', \"all 'round the room in a whirligig.\", 'julia and i, we banished their nonsense', 'and tipped them the twist of a reel and a jig.', \"&'och mavrone, how the girls got all mad at me\", \"danced 'til you'd think the ceiling would fall.\", \"for i spent three weeks at brooks' academy\", \"learning new steps for lanigan's ball.\", '', 'three long weeks i spent up in dublin,', 'three long weeks to learn nothing at all,', 'three long weeks i spent up in dublin,', \"learning new steps for lanigan's ball.\", 'she stepped out and i stepped in again,', 'i stepped out and she stepped in again,', 'she stepped out and i stepped in again,', \"learning new steps for lanigan's ball.\", '', 'boys were all merry and the girls they were hearty', 'and danced all around in couples and groups,', \"'til an accident happened, young terrance mccarthy\", \"put his right leg through miss finnerty's hoops.\", 'poor creature fainted and cried: meelia murther,', 'called for her brothers and gathered them all.', \"carmody swore that he'd go no further\", \"'til he had satisfaction at lanigan's ball.\", '', 'in the midst of the row miss kerrigan fainted,', 'her cheeks at the same time as red as a rose.', 'some of the lads declared she was painted,', 'she took a small drop too much, i suppose.', 'her sweetheart, ned morgan, so powerful and able,', 'when he saw his fair colleen stretched out by the wall,', 'tore the left leg from under the table', \"and smashed all the chaneys at lanigan's ball.\", '', \"boys, oh boys, 'twas then there were runctions.\", 'myself got a lick from big phelim mchugh.', 'i soon replied to his introduction', 'and kicked up a terrible hullabaloo.', 'old casey, the piper, was near being strangled.', 'they squeezed up his pipes, bellows, chanters and all.', 'the girls, in their ribbons, they got all entangled', \"and that put an end to lanigan's ball.\"]\n"
     ]
    }
   ],
   "source": [
    "data = []\n",
    "\n",
    "with open('./irish-poem.txt','r') as file:\n",
    "    for line in file.readlines():\n",
    "        data.append(line.lower().split('\\n')[0])\n",
    "\n",
    "print(len(data))\n",
    "print(data)"
   ]
  },
  {
   "cell_type": "markdown",
   "metadata": {},
   "source": [
    "Tokenizer Hyperparameters"
   ]
  },
  {
   "cell_type": "code",
   "execution_count": 147,
   "metadata": {},
   "outputs": [],
   "source": [
    "# OOV_TOK = '<OOV>'\n",
    "# VOCAB_SIZE = 8192\n",
    "PAD = 'pre'\n",
    "# TRUNC = 'post'\n",
    "# SNTNC_MAX_LEN = 16"
   ]
  },
  {
   "cell_type": "code",
   "execution_count": 148,
   "metadata": {},
   "outputs": [
    {
     "name": "stdout",
     "output_type": "stream",
     "text": [
      "263\n"
     ]
    }
   ],
   "source": [
    "tokenizer = Tokenizer()\n",
    "tokenizer.fit_on_texts(data)\n",
    "VOCAB_SIZE = len(tokenizer.word_index) + 1\n",
    "print(VOCAB_SIZE)"
   ]
  },
  {
   "cell_type": "markdown",
   "metadata": {},
   "source": [
    "Generating Input sequences"
   ]
  },
  {
   "cell_type": "code",
   "execution_count": 149,
   "metadata": {},
   "outputs": [
    {
     "data": {
      "text/plain": [
       "[0, 1, 2, 3, 4, 5, 6, 7, 8, 9]"
      ]
     },
     "execution_count": 149,
     "metadata": {},
     "output_type": "execute_result"
    }
   ],
   "source": [
    "list(range(10))"
   ]
  },
  {
   "cell_type": "code",
   "execution_count": 150,
   "metadata": {},
   "outputs": [
    {
     "name": "stdout",
     "output_type": "stream",
     "text": [
      "(71, 10)\n",
      "(71,)\n"
     ]
    }
   ],
   "source": [
    "input_sequences = []\n",
    "seqs = tokenizer.texts_to_sequences(data)\n",
    "\n",
    "SNTNC_MAX_LEN = 0\n",
    "\n",
    "for sequ in seqs:\n",
    "    for i in range(len(sequ)):\n",
    "        input_sequences.append(sequ[:i+1])\n",
    "    SNTNC_MAX_LEN = max(SNTNC_MAX_LEN, len(sequ))\n",
    "\n",
    "pad_seqs = pad_sequences(seqs, maxlen=SNTNC_MAX_LEN, padding=PAD)\n",
    "train_data = pad_seqs[:,:-1]\n",
    "train_labels = pad_seqs[:,-1]\n",
    "\n",
    "print(train_data.shape)\n",
    "print(train_labels.shape)\n"
   ]
  },
  {
   "cell_type": "markdown",
   "metadata": {},
   "source": [
    "Categorical "
   ]
  },
  {
   "cell_type": "code",
   "execution_count": 151,
   "metadata": {},
   "outputs": [
    {
     "name": "stdout",
     "output_type": "stream",
     "text": [
      "(71, 263)\n"
     ]
    }
   ],
   "source": [
    "train_labels = tf.keras.utils.to_categorical(train_labels, num_classes=VOCAB_SIZE)\n",
    "print(train_labels.shape)"
   ]
  },
  {
   "cell_type": "markdown",
   "metadata": {},
   "source": [
    "## Model Generation"
   ]
  },
  {
   "cell_type": "code",
   "execution_count": 152,
   "metadata": {},
   "outputs": [
    {
     "name": "stdout",
     "output_type": "stream",
     "text": [
      "Model: \"sequential_12\"\n",
      "_________________________________________________________________\n",
      " Layer (type)                Output Shape              Param #   \n",
      "=================================================================\n",
      " embedding_12 (Embedding)    (None, 10, 64)            16832     \n",
      "                                                                 \n",
      " bidirectional_12 (Bidirect  (None, 64)                24832     \n",
      " ional)                                                          \n",
      "                                                                 \n",
      " dense_24 (Dense)            (None, 16)                1040      \n",
      "                                                                 \n",
      " dense_25 (Dense)            (None, 263)               4471      \n",
      "                                                                 \n",
      "=================================================================\n",
      "Total params: 47175 (184.28 KB)\n",
      "Trainable params: 47175 (184.28 KB)\n",
      "Non-trainable params: 0 (0.00 Byte)\n",
      "_________________________________________________________________\n"
     ]
    }
   ],
   "source": [
    "model = Sequential([\n",
    "    Embedding(VOCAB_SIZE, 64, input_length=SNTNC_MAX_LEN-1),\n",
    "    Bidirectional(LSTM(32)),\n",
    "    Dense(16, activation='relu'),\n",
    "    Dense(VOCAB_SIZE, activation='softmax')\n",
    "])\n",
    "\n",
    "model.summary()"
   ]
  },
  {
   "cell_type": "code",
   "execution_count": 153,
   "metadata": {},
   "outputs": [],
   "source": [
    "model.compile(\n",
    "    optimizer='adam',\n",
    "    loss='categorical_crossentropy',\n",
    "    metrics=['accuracy']\n",
    ")"
   ]
  },
  {
   "cell_type": "markdown",
   "metadata": {},
   "source": [
    "## Model Training"
   ]
  },
  {
   "cell_type": "code",
   "execution_count": 154,
   "metadata": {},
   "outputs": [
    {
     "name": "stdout",
     "output_type": "stream",
     "text": [
      "Epoch 1/100\n",
      "3/3 [==============================] - 1s 4ms/step - loss: 5.5726 - accuracy: 0.0000e+00\n",
      "Epoch 2/100\n",
      "3/3 [==============================] - 0s 4ms/step - loss: 5.5639 - accuracy: 0.0704\n",
      "Epoch 3/100\n",
      "3/3 [==============================] - 0s 4ms/step - loss: 5.5557 - accuracy: 0.0423\n",
      "Epoch 4/100\n",
      "3/3 [==============================] - 0s 3ms/step - loss: 5.5467 - accuracy: 0.0423\n",
      "Epoch 5/100\n",
      "3/3 [==============================] - 0s 3ms/step - loss: 5.5353 - accuracy: 0.0423\n",
      "Epoch 6/100\n",
      "3/3 [==============================] - 0s 3ms/step - loss: 5.5218 - accuracy: 0.0423\n",
      "Epoch 7/100\n",
      "3/3 [==============================] - 0s 3ms/step - loss: 5.5031 - accuracy: 0.0423\n",
      "Epoch 8/100\n",
      "3/3 [==============================] - 0s 3ms/step - loss: 5.4787 - accuracy: 0.0423\n",
      "Epoch 9/100\n",
      "3/3 [==============================] - 0s 3ms/step - loss: 5.4426 - accuracy: 0.0563\n",
      "Epoch 10/100\n",
      "3/3 [==============================] - 0s 3ms/step - loss: 5.3914 - accuracy: 0.0704\n",
      "Epoch 11/100\n",
      "3/3 [==============================] - 0s 3ms/step - loss: 5.3095 - accuracy: 0.0563\n",
      "Epoch 12/100\n",
      "3/3 [==============================] - 0s 3ms/step - loss: 5.1876 - accuracy: 0.0845\n",
      "Epoch 13/100\n",
      "3/3 [==============================] - 0s 3ms/step - loss: 4.9981 - accuracy: 0.1408\n",
      "Epoch 14/100\n",
      "3/3 [==============================] - 0s 3ms/step - loss: 4.7584 - accuracy: 0.1268\n",
      "Epoch 15/100\n",
      "3/3 [==============================] - 0s 3ms/step - loss: 4.5018 - accuracy: 0.1268\n",
      "Epoch 16/100\n",
      "3/3 [==============================] - 0s 3ms/step - loss: 4.2857 - accuracy: 0.1268\n",
      "Epoch 17/100\n",
      "3/3 [==============================] - 0s 3ms/step - loss: 4.1655 - accuracy: 0.1268\n",
      "Epoch 18/100\n",
      "3/3 [==============================] - 0s 5ms/step - loss: 4.0744 - accuracy: 0.1268\n",
      "Epoch 19/100\n",
      "3/3 [==============================] - 0s 8ms/step - loss: 3.9953 - accuracy: 0.1268\n",
      "Epoch 20/100\n",
      "3/3 [==============================] - 0s 6ms/step - loss: 3.9194 - accuracy: 0.1268\n",
      "Epoch 21/100\n",
      "3/3 [==============================] - 0s 3ms/step - loss: 3.8385 - accuracy: 0.1268\n",
      "Epoch 22/100\n",
      "3/3 [==============================] - 0s 3ms/step - loss: 3.7730 - accuracy: 0.1268\n",
      "Epoch 23/100\n",
      "3/3 [==============================] - 0s 3ms/step - loss: 3.7197 - accuracy: 0.1268\n",
      "Epoch 24/100\n",
      "3/3 [==============================] - 0s 3ms/step - loss: 3.6734 - accuracy: 0.1268\n",
      "Epoch 25/100\n",
      "3/3 [==============================] - 0s 3ms/step - loss: 3.6395 - accuracy: 0.1268\n",
      "Epoch 26/100\n",
      "3/3 [==============================] - 0s 3ms/step - loss: 3.6055 - accuracy: 0.1268\n",
      "Epoch 27/100\n",
      "3/3 [==============================] - 0s 3ms/step - loss: 3.5733 - accuracy: 0.1268\n",
      "Epoch 28/100\n",
      "3/3 [==============================] - 0s 3ms/step - loss: 3.5452 - accuracy: 0.1268\n",
      "Epoch 29/100\n",
      "3/3 [==============================] - 0s 3ms/step - loss: 3.5164 - accuracy: 0.1408\n",
      "Epoch 30/100\n",
      "3/3 [==============================] - 0s 3ms/step - loss: 3.4947 - accuracy: 0.2254\n",
      "Epoch 31/100\n",
      "3/3 [==============================] - 0s 3ms/step - loss: 3.4674 - accuracy: 0.2254\n",
      "Epoch 32/100\n",
      "3/3 [==============================] - 0s 3ms/step - loss: 3.4416 - accuracy: 0.2254\n",
      "Epoch 33/100\n",
      "3/3 [==============================] - 0s 3ms/step - loss: 3.4173 - accuracy: 0.2254\n",
      "Epoch 34/100\n",
      "3/3 [==============================] - 0s 3ms/step - loss: 3.3916 - accuracy: 0.2254\n",
      "Epoch 35/100\n",
      "3/3 [==============================] - 0s 3ms/step - loss: 3.3643 - accuracy: 0.2254\n",
      "Epoch 36/100\n",
      "3/3 [==============================] - 0s 3ms/step - loss: 3.3391 - accuracy: 0.2254\n",
      "Epoch 37/100\n",
      "3/3 [==============================] - 0s 3ms/step - loss: 3.3121 - accuracy: 0.2254\n",
      "Epoch 38/100\n",
      "3/3 [==============================] - 0s 3ms/step - loss: 3.2826 - accuracy: 0.2254\n",
      "Epoch 39/100\n",
      "3/3 [==============================] - 0s 3ms/step - loss: 3.2558 - accuracy: 0.2254\n",
      "Epoch 40/100\n",
      "3/3 [==============================] - 0s 3ms/step - loss: 3.2286 - accuracy: 0.2254\n",
      "Epoch 41/100\n",
      "3/3 [==============================] - 0s 3ms/step - loss: 3.1958 - accuracy: 0.2254\n",
      "Epoch 42/100\n",
      "3/3 [==============================] - 0s 3ms/step - loss: 3.1660 - accuracy: 0.2254\n",
      "Epoch 43/100\n",
      "3/3 [==============================] - 0s 3ms/step - loss: 3.1324 - accuracy: 0.2254\n",
      "Epoch 44/100\n",
      "3/3 [==============================] - 0s 3ms/step - loss: 3.0984 - accuracy: 0.2254\n",
      "Epoch 45/100\n",
      "3/3 [==============================] - 0s 3ms/step - loss: 3.0629 - accuracy: 0.2254\n",
      "Epoch 46/100\n",
      "3/3 [==============================] - 0s 3ms/step - loss: 3.0272 - accuracy: 0.2254\n",
      "Epoch 47/100\n",
      "3/3 [==============================] - 0s 3ms/step - loss: 2.9902 - accuracy: 0.2254\n",
      "Epoch 48/100\n",
      "3/3 [==============================] - 0s 3ms/step - loss: 2.9562 - accuracy: 0.2254\n",
      "Epoch 49/100\n",
      "3/3 [==============================] - 0s 3ms/step - loss: 2.9198 - accuracy: 0.2254\n",
      "Epoch 50/100\n",
      "3/3 [==============================] - 0s 3ms/step - loss: 2.8830 - accuracy: 0.2254\n",
      "Epoch 51/100\n",
      "3/3 [==============================] - 0s 3ms/step - loss: 2.8452 - accuracy: 0.2254\n",
      "Epoch 52/100\n",
      "3/3 [==============================] - 0s 3ms/step - loss: 2.8075 - accuracy: 0.2254\n",
      "Epoch 53/100\n",
      "3/3 [==============================] - 0s 3ms/step - loss: 2.7714 - accuracy: 0.2254\n",
      "Epoch 54/100\n",
      "3/3 [==============================] - 0s 7ms/step - loss: 2.7327 - accuracy: 0.2254\n",
      "Epoch 55/100\n",
      "3/3 [==============================] - 0s 4ms/step - loss: 2.6939 - accuracy: 0.2254\n",
      "Epoch 56/100\n",
      "3/3 [==============================] - 0s 4ms/step - loss: 2.6585 - accuracy: 0.2535\n",
      "Epoch 57/100\n",
      "3/3 [==============================] - 0s 3ms/step - loss: 2.6207 - accuracy: 0.2676\n",
      "Epoch 58/100\n",
      "3/3 [==============================] - 0s 3ms/step - loss: 2.5808 - accuracy: 0.2676\n",
      "Epoch 59/100\n",
      "3/3 [==============================] - 0s 3ms/step - loss: 2.5423 - accuracy: 0.2676\n",
      "Epoch 60/100\n",
      "3/3 [==============================] - 0s 3ms/step - loss: 2.5015 - accuracy: 0.2676\n",
      "Epoch 61/100\n",
      "3/3 [==============================] - 0s 3ms/step - loss: 2.4629 - accuracy: 0.2676\n",
      "Epoch 62/100\n",
      "3/3 [==============================] - 0s 3ms/step - loss: 2.4240 - accuracy: 0.2676\n",
      "Epoch 63/100\n",
      "3/3 [==============================] - 0s 3ms/step - loss: 2.3853 - accuracy: 0.2817\n",
      "Epoch 64/100\n",
      "3/3 [==============================] - 0s 3ms/step - loss: 2.3465 - accuracy: 0.3239\n",
      "Epoch 65/100\n",
      "3/3 [==============================] - 0s 3ms/step - loss: 2.3119 - accuracy: 0.3662\n",
      "Epoch 66/100\n",
      "3/3 [==============================] - 0s 3ms/step - loss: 2.2731 - accuracy: 0.3803\n",
      "Epoch 67/100\n",
      "3/3 [==============================] - 0s 3ms/step - loss: 2.2320 - accuracy: 0.3944\n",
      "Epoch 68/100\n",
      "3/3 [==============================] - 0s 3ms/step - loss: 2.1938 - accuracy: 0.3944\n",
      "Epoch 69/100\n",
      "3/3 [==============================] - 0s 3ms/step - loss: 2.1587 - accuracy: 0.4225\n",
      "Epoch 70/100\n",
      "3/3 [==============================] - 0s 3ms/step - loss: 2.1183 - accuracy: 0.4366\n",
      "Epoch 71/100\n",
      "3/3 [==============================] - 0s 3ms/step - loss: 2.0806 - accuracy: 0.4366\n",
      "Epoch 72/100\n",
      "3/3 [==============================] - 0s 3ms/step - loss: 2.0405 - accuracy: 0.4507\n",
      "Epoch 73/100\n",
      "3/3 [==============================] - 0s 3ms/step - loss: 2.0063 - accuracy: 0.4648\n",
      "Epoch 74/100\n",
      "3/3 [==============================] - 0s 3ms/step - loss: 1.9667 - accuracy: 0.4930\n",
      "Epoch 75/100\n",
      "3/3 [==============================] - 0s 3ms/step - loss: 1.9295 - accuracy: 0.4930\n",
      "Epoch 76/100\n",
      "3/3 [==============================] - 0s 3ms/step - loss: 1.8923 - accuracy: 0.5070\n",
      "Epoch 77/100\n",
      "3/3 [==============================] - 0s 3ms/step - loss: 1.8470 - accuracy: 0.5211\n",
      "Epoch 78/100\n",
      "3/3 [==============================] - 0s 3ms/step - loss: 1.8086 - accuracy: 0.5493\n",
      "Epoch 79/100\n",
      "3/3 [==============================] - 0s 3ms/step - loss: 1.7696 - accuracy: 0.5493\n",
      "Epoch 80/100\n",
      "3/3 [==============================] - 0s 3ms/step - loss: 1.7318 - accuracy: 0.5775\n",
      "Epoch 81/100\n",
      "3/3 [==============================] - 0s 3ms/step - loss: 1.6968 - accuracy: 0.5775\n",
      "Epoch 82/100\n",
      "3/3 [==============================] - 0s 3ms/step - loss: 1.6587 - accuracy: 0.5915\n",
      "Epoch 83/100\n",
      "3/3 [==============================] - 0s 3ms/step - loss: 1.6213 - accuracy: 0.6197\n",
      "Epoch 84/100\n",
      "3/3 [==============================] - 0s 3ms/step - loss: 1.5833 - accuracy: 0.6338\n",
      "Epoch 85/100\n",
      "3/3 [==============================] - 0s 3ms/step - loss: 1.5502 - accuracy: 0.6479\n",
      "Epoch 86/100\n",
      "3/3 [==============================] - 0s 3ms/step - loss: 1.5150 - accuracy: 0.6197\n",
      "Epoch 87/100\n",
      "3/3 [==============================] - 0s 10ms/step - loss: 1.4861 - accuracy: 0.6338\n",
      "Epoch 88/100\n",
      "3/3 [==============================] - 0s 4ms/step - loss: 1.4557 - accuracy: 0.7183\n",
      "Epoch 89/100\n",
      "3/3 [==============================] - 0s 4ms/step - loss: 1.4298 - accuracy: 0.7042\n",
      "Epoch 90/100\n",
      "3/3 [==============================] - 0s 3ms/step - loss: 1.4016 - accuracy: 0.7183\n",
      "Epoch 91/100\n",
      "3/3 [==============================] - 0s 3ms/step - loss: 1.3705 - accuracy: 0.7183\n",
      "Epoch 92/100\n",
      "3/3 [==============================] - 0s 3ms/step - loss: 1.3373 - accuracy: 0.7324\n",
      "Epoch 93/100\n",
      "3/3 [==============================] - 0s 3ms/step - loss: 1.3130 - accuracy: 0.7465\n",
      "Epoch 94/100\n",
      "3/3 [==============================] - 0s 3ms/step - loss: 1.2821 - accuracy: 0.7887\n",
      "Epoch 95/100\n",
      "3/3 [==============================] - 0s 3ms/step - loss: 1.2553 - accuracy: 0.8310\n",
      "Epoch 96/100\n",
      "3/3 [==============================] - 0s 3ms/step - loss: 1.2261 - accuracy: 0.8310\n",
      "Epoch 97/100\n",
      "3/3 [==============================] - 0s 3ms/step - loss: 1.2064 - accuracy: 0.8592\n",
      "Epoch 98/100\n",
      "3/3 [==============================] - 0s 3ms/step - loss: 1.1874 - accuracy: 0.8310\n",
      "Epoch 99/100\n",
      "3/3 [==============================] - 0s 3ms/step - loss: 1.1620 - accuracy: 0.8310\n",
      "Epoch 100/100\n",
      "3/3 [==============================] - 0s 3ms/step - loss: 1.1429 - accuracy: 0.8592\n"
     ]
    }
   ],
   "source": [
    "data_hist = model.fit(train_data, train_labels, epochs=100)"
   ]
  },
  {
   "cell_type": "markdown",
   "metadata": {},
   "source": [
    "## Plotting Metrics"
   ]
  },
  {
   "cell_type": "code",
   "execution_count": 155,
   "metadata": {},
   "outputs": [
    {
     "data": {
      "image/png": "[encoded data removed]",
      "text/plain": [
       "<Figure size 640x480 with 1 Axes>"
      ]
     },
     "metadata": {},
     "output_type": "display_data"
    }
   ],
   "source": [
    "import matplotlib.pyplot as plt\n",
    "\n",
    "# Plot utility\n",
    "def plot_graphs(history, string):\n",
    "  plt.plot(history.history[string])\n",
    "  plt.xlabel(\"Epochs\")\n",
    "  plt.ylabel(string)\n",
    "  plt.show()\n",
    "\n",
    "# Visualize the accuracy\n",
    "plot_graphs(data_hist, 'accuracy')"
   ]
  },
  {
   "cell_type": "code",
   "execution_count": 156,
   "metadata": {},
   "outputs": [
    {
     "data": {
      "image/png": "[encoded data removed]",
      "text/plain": [
       "<Figure size 640x480 with 1 Axes>"
      ]
     },
     "metadata": {},
     "output_type": "display_data"
    }
   ],
   "source": [
    "plot_graphs(data_hist, 'loss')"
   ]
  },
  {
   "cell_type": "markdown",
   "metadata": {},
   "source": [
    "## Generate text"
   ]
  },
  {
   "cell_type": "code",
   "execution_count": 157,
   "metadata": {},
   "outputs": [
    {
     "name": "stdout",
     "output_type": "stream",
     "text": [
      "['rabbit went to dublin fair']\n",
      "[[134, 13, 59, 229]]\n",
      "[[  0   0   0   0   0   0 134  13  59 229]]\n"
     ]
    }
   ],
   "source": [
    "seed_text = 'Rabbit went to dublin fair'\n",
    "print([seed_text.lower()])\n",
    "\n",
    "gen_seq = tokenizer.texts_to_sequences([seed_text.lower()])\n",
    "pad_gen_seq = pad_sequences(gen_seq, padding=PAD, maxlen=SNTNC_MAX_LEN-1)\n",
    "\n",
    "print(gen_seq)\n",
    "print(pad_gen_seq)"
   ]
  },
  {
   "cell_type": "code",
   "execution_count": 158,
   "metadata": {},
   "outputs": [
    {
     "name": "stdout",
     "output_type": "stream",
     "text": [
      "1/1 [==============================] - 1s 599ms/step\n"
     ]
    }
   ],
   "source": [
    "outputs = model.predict(pad_gen_seq)\n",
    "output_label = np.argmax(outputs, axis=1)\n",
    "# print(output_label[0])\n",
    "# print(tokenizer.index_word[output_label[0]])"
   ]
  },
  {
   "cell_type": "markdown",
   "metadata": {},
   "source": [
    "Loop"
   ]
  },
  {
   "cell_type": "code",
   "execution_count": 162,
   "metadata": {},
   "outputs": [
    {
     "name": "stdout",
     "output_type": "stream",
     "text": [
      "1/1 [==============================] - 0s 12ms/step\n",
      "1/1 [==============================] - 0s 10ms/step\n",
      "1/1 [==============================] - 0s 17ms/step\n",
      "1/1 [==============================] - 0s 9ms/step\n",
      "1/1 [==============================] - 0s 11ms/step\n",
      "1/1 [==============================] - 0s 11ms/step\n",
      "1/1 [==============================] - 0s 12ms/step\n",
      "1/1 [==============================] - 0s 12ms/step\n",
      "1/1 [==============================] - 0s 10ms/step\n",
      "1/1 [==============================] - 0s 10ms/step\n",
      "Laurence went to Dublin\n"
     ]
    }
   ],
   "source": [
    "seed_text = 'Laurence went to Dublin'\n",
    "for _ in range(10):\n",
    "    gen_seq = tokenizer.texts_to_sequences([seed_text.lower()])\n",
    "    pad_gen_seq = pad_sequences(gen_seq, padding=PAD, maxlen=SNTNC_MAX_LEN-1)\n",
    "    outputs = model.predict(pad_gen_seq)\n",
    "    output_label = np.argmax(outputs, axis=1)\n",
    "    if output_label[0] != 0:\n",
    "        output_word = tokenizer.index_word[output_label[0]]\n",
    "        seed_text += f' {output_word}'\n",
    "\n",
    "print(seed_text)"
   ]
  },
  {
   "cell_type": "markdown",
   "metadata": {},
   "source": [
    "Loop top random 4"
   ]
  },
  {
   "cell_type": "code",
   "execution_count": 163,
   "metadata": {},
   "outputs": [
    {
     "name": "stdout",
     "output_type": "stream",
     "text": [
      "1/1 [==============================] - 0s 12ms/step\n",
      "1/1 [==============================] - 0s 9ms/step\n",
      "1/1 [==============================] - 0s 9ms/step\n",
      "1/1 [==============================] - 0s 10ms/step\n",
      "1/1 [==============================] - 0s 10ms/step\n",
      "1/1 [==============================] - 0s 9ms/step\n",
      "1/1 [==============================] - 0s 9ms/step\n",
      "1/1 [==============================] - 0s 10ms/step\n",
      "1/1 [==============================] - 0s 10ms/step\n",
      "1/1 [==============================] - 0s 9ms/step\n",
      "Laurence went to Dublin ball ball relations hullabaloo dublin dublin relations ask\n"
     ]
    }
   ],
   "source": [
    "seed_text = 'Laurence went to Dublin'\n",
    "\n",
    "for _ in range(10):\n",
    "    gen_seq = tokenizer.texts_to_sequences([seed_text.lower()])\n",
    "    pad_gen_seq = pad_sequences(gen_seq, padding=PAD, maxlen=SNTNC_MAX_LEN-1)\n",
    "    outputs = model.predict(pad_gen_seq)\n",
    "    output_label = np.argsort(outputs, axis=1)[0]\n",
    "    choice = np.random.choice([-1,-2,-3,-4])\n",
    "\n",
    "    if output_label[choice] != 0:\n",
    "        output_word = tokenizer.index_word[output_label[choice]]\n",
    "        seed_text += f' {output_word}'\n",
    "\n",
    "print(seed_text)"
   ]
  },
  {
   "cell_type": "markdown",
   "metadata": {},
   "source": [
    "Choosing top last 3 options"
   ]
  },
  {
   "cell_type": "code",
   "execution_count": 9,
   "metadata": {},
   "outputs": [
    {
     "name": "stdout",
     "output_type": "stream",
     "text": [
      "-3 -2\n",
      "-2 -3\n",
      "-1 -2\n",
      "-2 -2\n",
      "-1 -1\n",
      "-3 -1\n",
      "-1 -1\n",
      "-1 -1\n",
      "-2 -2\n",
      "-2 -3\n"
     ]
    }
   ],
   "source": [
    "import numpy as np\n",
    "\n",
    "for i in range(10):\n",
    "    print(np.random.choice([-1,-2,-3]), np.random.randint(-3,0))"
   ]
  },
  {
   "cell_type": "code",
   "execution_count": 22,
   "metadata": {},
   "outputs": [
    {
     "name": "stdout",
     "output_type": "stream",
     "text": [
      "[0, 1, 2, 3, 4, 5, 6, 7, 8, 9]\n",
      "[7, 8, 9]\n",
      "7\n",
      "8\n",
      "8\n",
      "8\n",
      "7\n",
      "7\n",
      "9\n",
      "9\n",
      "8\n",
      "7\n"
     ]
    }
   ],
   "source": [
    "arr = list(range(10))\n",
    "print(arr)\n",
    "print(arr[-3:])\n",
    "\n",
    "for i in range(10):\n",
    "    print(np.random.choice(arr[-3:]))"
   ]
  },
  {
   "cell_type": "code",
   "execution_count": null,
   "metadata": {},
   "outputs": [],
   "source": []
  }
 ],
 "metadata": {
  "kernelspec": {
   "display_name": "base",
   "language": "python",
   "name": "python3"
  },
  "language_info": {
   "codemirror_mode": {
    "name": "ipython",
    "version": 3
   },
   "file_extension": ".py",
   "mimetype": "text/x-python",
   "name": "python",
   "nbconvert_exporter": "python",
   "pygments_lexer": "ipython3",
   "version": "3.11.5"
  }
 },
 "nbformat": 4,
 "nbformat_minor": 2
}
