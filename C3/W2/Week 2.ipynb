{
 "cells": [
  {
   "cell_type": "markdown",
   "metadata": {},
   "source": [
    "# Word Embeddings"
   ]
  },
  {
   "cell_type": "markdown",
   "metadata": {},
   "source": [
    "## Loading Imdb dataset"
   ]
  },
  {
   "cell_type": "code",
   "execution_count": 1,
   "metadata": {},
   "outputs": [
    {
     "name": "stderr",
     "output_type": "stream",
     "text": [
      "/Users/future/Library/Python/3.9/lib/python/site-packages/tqdm/auto.py:21: TqdmWarning: IProgress not found. Please update jupyter and ipywidgets. See https://ipywidgets.readthedocs.io/en/stable/user_install.html\n",
      "  from .autonotebook import tqdm as notebook_tqdm\n"
     ]
    }
   ],
   "source": [
    "import tensorflow_datasets as tfds\n",
    "\n",
    "imdb, info = tfds.load('imdb_reviews', as_supervised=True, with_info=True)"
   ]
  },
  {
   "cell_type": "markdown",
   "metadata": {},
   "source": [
    "Taking random examples from dataset"
   ]
  },
  {
   "cell_type": "code",
   "execution_count": 4,
   "metadata": {},
   "outputs": [
    {
     "name": "stdout",
     "output_type": "stream",
     "text": [
      "<_TakeDataset element_spec=(TensorSpec(shape=(), dtype=tf.string, name=None), TensorSpec(shape=(), dtype=tf.int64, name=None))>\n",
      "<class 'tensorflow.python.data.ops.take_op._TakeDataset'>\n"
     ]
    }
   ],
   "source": [
    "random_example = imdb['train'].take(1)\n",
    "print(random_example)\n",
    "print(type(random_example))"
   ]
  },
  {
   "cell_type": "markdown",
   "metadata": {},
   "source": [
    "## Data Preprocessing"
   ]
  },
  {
   "cell_type": "code",
   "execution_count": 5,
   "metadata": {},
   "outputs": [],
   "source": [
    "import tensorflow as tf\n",
    "import numpy as np\n",
    "\n",
    "training_data = []\n",
    "training_labels = []\n",
    "\n",
    "test_data = []\n",
    "test_labels = []\n",
    "\n",
    "for data, label in imdb['train']:\n",
    "    training_data.append(data.numpy().decode('utf8'))\n",
    "    training_labels.append(label.numpy())\n",
    "\n",
    "for data, label in imdb['test']:\n",
    "    test_data.append(data.numpy().decode('utf8'))\n",
    "    test_labels.append(label.numpy())\n",
    "\n",
    "training_data = np.array(training_data)\n",
    "training_labels = np.array(training_labels)\n",
    "test_data = np.array(test_data)\n",
    "test_labels = np.array(test_labels)"
   ]
  },
  {
   "cell_type": "markdown",
   "metadata": {},
   "source": [
    "Dataset Length"
   ]
  },
  {
   "cell_type": "code",
   "execution_count": 7,
   "metadata": {},
   "outputs": [
    {
     "name": "stdout",
     "output_type": "stream",
     "text": [
      "Training size 25000\n",
      "Testing size 25000\n"
     ]
    }
   ],
   "source": [
    "print('Training size', len(training_data))\n",
    "print('Testing size', len(test_data))"
   ]
  },
  {
   "cell_type": "markdown",
   "metadata": {},
   "source": [
    "### Tokenize"
   ]
  },
  {
   "cell_type": "markdown",
   "metadata": {},
   "source": [
    "Hyperparameters"
   ]
  },
  {
   "cell_type": "code",
   "execution_count": 69,
   "metadata": {},
   "outputs": [],
   "source": [
    "dict_size = 8192\n",
    "sentence_max_length = 128\n",
    "epochs = 10\n",
    "oov_tok = '<OOV>'\n",
    "embed_size = 16"
   ]
  },
  {
   "cell_type": "code",
   "execution_count": 70,
   "metadata": {},
   "outputs": [
    {
     "name": "stdout",
     "output_type": "stream",
     "text": [
      "No. of unique words in corpus 88583\n"
     ]
    }
   ],
   "source": [
    "from tensorflow.keras.preprocessing.text import Tokenizer\n",
    "from tensorflow.keras.preprocessing.sequence import pad_sequences\n",
    "\n",
    "tokenizer = Tokenizer(num_words=dict_size, oov_token=oov_tok)\n",
    "tokenizer.fit_on_texts(training_data)\n",
    "\n",
    "print('No. of unique words in corpus',len(tokenizer.word_index.keys()))"
   ]
  },
  {
   "cell_type": "code",
   "execution_count": 71,
   "metadata": {},
   "outputs": [],
   "source": [
    "training_sequences = tokenizer.texts_to_sequences(training_data)\n",
    "training_sequences = pad_sequences(training_sequences, padding='post', truncating='post', maxlen=sentence_max_length)\n",
    "\n",
    "test_sequences = tokenizer.texts_to_sequences(test_data)\n",
    "test_sequences = pad_sequences(test_sequences, padding='post', truncating='post', maxlen=sentence_max_length)"
   ]
  },
  {
   "cell_type": "markdown",
   "metadata": {},
   "source": [
    "Picking random encoded sequence"
   ]
  },
  {
   "cell_type": "code",
   "execution_count": 72,
   "metadata": {},
   "outputs": [
    {
     "name": "stdout",
     "output_type": "stream",
     "text": [
      "[  11   14  281    6   59 2894   16  441 3627    3 1565 3736   11  294\n",
      "    2  434   20   17   59  221    3   47  367   11   26   55  324   49\n",
      "    2   18   14   42  101   74 3771   73   30 4734   13   12   14   22\n",
      "   29    5   66  126 2048    8    8   10  150 3262  293   53   71   10\n",
      "    7   97 5301    3   48    7  115  210   11  242  683   10   98   26\n",
      "   75   74  126    8    8   11 4475 1921    6   65   12   20  446   21\n",
      "    2 7939 3622    8    8   90  436  127  276  892   23   24    4    1\n",
      "    3   41  179    6   65   30    5  441    1    3 1565    1  106    8\n",
      "    8   10   14    4  337   94    6 1139   33 2194    0    0    0    0\n",
      "    0    0]\n",
      "Decoded sequence [\"i was true to my regard for mr glover and ms goldberg i watched the entire film with my family and some friends i have no idea what the movie was about after much discussion we all agreed that this was not one of their better efforts br br it doesn't hang together very well it is too choppy and there is little comedy i am disappointed it could have been much better br br i waited months to see this film based on the liner notes br br don't waste your money unless you are a <OOV> and just want to see all of mr <OOV> and ms <OOV> films br br it was a poor way to spend an evening <OOV> <OOV> <OOV> <OOV> <OOV> <OOV>\"]\n",
      "Original sentence I was true to my regard for Mr. Glover and Ms. Goldberg. I watched the entire film with my family and some friends. I have no idea what the movie was about. After much discussion, we all agreed that this was not one of their better efforts.<br /><br />It doesn't hang together very well. It is too choppy, and there is little comedy. I am disappointed. It could have been much better.<br /><br />I waited months to see this film based on the liner notes.<br /><br />Don't waste your money unless you are a completist and just want to see all of Mr. Glover's and Ms. Goldberg's films.<br /><br />It was a poor way to spend an evening.\n"
     ]
    }
   ],
   "source": [
    "from random import randint\n",
    "rand_idx = randint(0, len(training_sequences))\n",
    "\n",
    "rand_sequence = training_sequences[rand_idx]\n",
    "print(rand_sequence)\n",
    "\n",
    "print('Decoded sequence', tokenizer.sequences_to_texts([rand_sequence]))\n",
    "print('Original sentence', training_data[rand_idx])"
   ]
  },
  {
   "cell_type": "markdown",
   "metadata": {},
   "source": [
    "## Model Creation"
   ]
  },
  {
   "cell_type": "code",
   "execution_count": 73,
   "metadata": {},
   "outputs": [
    {
     "name": "stdout",
     "output_type": "stream",
     "text": [
      "Model: \"sequential_8\"\n",
      "_________________________________________________________________\n",
      " Layer (type)                Output Shape              Param #   \n"
     ]
    },
    {
     "name": "stdout",
     "output_type": "stream",
     "text": [
      "=================================================================\n",
      " embedding_9 (Embedding)     (None, 128, 16)           131072    \n",
      "                                                                 \n",
      " flatten_7 (Flatten)         (None, 2048)              0         \n",
      "                                                                 \n",
      " dense_14 (Dense)            (None, 4)                 8196      \n",
      "                                                                 \n",
      " dense_15 (Dense)            (None, 1)                 5         \n",
      "                                                                 \n",
      "=================================================================\n",
      "Total params: 139273 (544.04 KB)\n",
      "Trainable params: 139273 (544.04 KB)\n",
      "Non-trainable params: 0 (0.00 Byte)\n",
      "_________________________________________________________________\n"
     ]
    }
   ],
   "source": [
    "model = tf.keras.Sequential([\n",
    "    tf.keras.layers.Embedding(dict_size, embed_size, input_length=sentence_max_length),\n",
    "    tf.keras.layers.Flatten(),\n",
    "    tf.keras.layers.Dense(4,activation='relu'),\n",
    "    tf.keras.layers.Dense(1,activation='sigmoid')\n",
    "])\n",
    "model.summary()"
   ]
  },
  {
   "cell_type": "code",
   "execution_count": 74,
   "metadata": {},
   "outputs": [],
   "source": [
    "model.compile(\n",
    "    optimizer='adam',\n",
    "    loss='binary_crossentropy',\n",
    "    metrics=['accuracy']\n",
    ")"
   ]
  },
  {
   "cell_type": "markdown",
   "metadata": {},
   "source": [
    "## Model Training"
   ]
  },
  {
   "cell_type": "code",
   "execution_count": 75,
   "metadata": {},
   "outputs": [
    {
     "name": "stdout",
     "output_type": "stream",
     "text": [
      "Epoch 1/10\n",
      "782/782 [==============================] - 1s 1ms/step - loss: 0.5070 - accuracy: 0.7272 - val_loss: 0.3758 - val_accuracy: 0.8318\n",
      "Epoch 2/10\n",
      "782/782 [==============================] - 1s 1ms/step - loss: 0.2608 - accuracy: 0.8966 - val_loss: 0.3907 - val_accuracy: 0.8280\n",
      "Epoch 3/10\n",
      "782/782 [==============================] - 1s 1ms/step - loss: 0.1369 - accuracy: 0.9589 - val_loss: 0.4567 - val_accuracy: 0.8156\n",
      "Epoch 4/10\n",
      "782/782 [==============================] - 1s 2ms/step - loss: 0.0484 - accuracy: 0.9920 - val_loss: 0.5351 - val_accuracy: 0.8164\n",
      "Epoch 5/10\n",
      "782/782 [==============================] - 1s 1ms/step - loss: 0.0152 - accuracy: 0.9982 - val_loss: 0.6188 - val_accuracy: 0.8126\n",
      "Epoch 6/10\n",
      "782/782 [==============================] - 1s 1ms/step - loss: 0.0047 - accuracy: 0.9998 - val_loss: 0.6876 - val_accuracy: 0.8134\n",
      "Epoch 7/10\n",
      "782/782 [==============================] - 1s 1ms/step - loss: 0.0019 - accuracy: 1.0000 - val_loss: 0.7507 - val_accuracy: 0.8139\n",
      "Epoch 8/10\n",
      "782/782 [==============================] - 1s 1ms/step - loss: 8.5306e-04 - accuracy: 1.0000 - val_loss: 0.8080 - val_accuracy: 0.8130\n",
      "Epoch 9/10\n",
      "782/782 [==============================] - 1s 1ms/step - loss: 4.7923e-04 - accuracy: 1.0000 - val_loss: 0.8507 - val_accuracy: 0.8132\n",
      "Epoch 10/10\n",
      "782/782 [==============================] - 1s 1ms/step - loss: 2.8578e-04 - accuracy: 1.0000 - val_loss: 0.8950 - val_accuracy: 0.8131\n"
     ]
    }
   ],
   "source": [
    "hist_data = model.fit(training_sequences, training_labels,validation_data=(test_sequences, test_labels), epochs=epochs)"
   ]
  },
  {
   "cell_type": "markdown",
   "metadata": {},
   "source": [
    "## Plotting accuracies"
   ]
  },
  {
   "cell_type": "code",
   "execution_count": 76,
   "metadata": {},
   "outputs": [
    {
     "data": {
      "image/png": "[encoded data removed]",
      "text/plain": [
       "<Figure size 640x480 with 1 Axes>"
      ]
     },
     "metadata": {},
     "output_type": "display_data"
    }
   ],
   "source": [
    "import matplotlib.pyplot as plt\n",
    "\n",
    "plt.plot(hist_data.history['accuracy'], 'r', label='training')\n",
    "plt.plot(hist_data.history['val_accuracy'], 'b', label='validation')\n",
    "plt.legend()\n",
    "plt.show()"
   ]
  },
  {
   "cell_type": "code",
   "execution_count": 77,
   "metadata": {},
   "outputs": [
    {
     "data": {
      "image/png": "[encoded data removed]",
      "text/plain": [
       "<Figure size 640x480 with 1 Axes>"
      ]
     },
     "metadata": {},
     "output_type": "display_data"
    }
   ],
   "source": [
    "plt.plot(hist_data.history['loss'], 'r', label='training')\n",
    "plt.plot(hist_data.history['val_loss'], 'b', label='validation')\n",
    "plt.legend()\n",
    "plt.show()"
   ]
  },
  {
   "cell_type": "markdown",
   "metadata": {},
   "source": [
    "## Getting data for visualization"
   ]
  },
  {
   "cell_type": "markdown",
   "metadata": {},
   "source": [
    "Get weights of embedding layer"
   ]
  },
  {
   "cell_type": "code",
   "execution_count": 88,
   "metadata": {},
   "outputs": [
    {
     "name": "stdout",
     "output_type": "stream",
     "text": [
      "(8192, 16)\n",
      "tf.Tensor(\n",
      "[ 0.05144861 -0.08108908  0.07988457  0.12564093  0.07911893  0.03508922\n",
      "  0.00882807 -0.01759071 -0.07769845 -0.02029196 -0.072363   -0.06455746\n",
      "  0.05826717 -0.01975162 -0.12883754  0.05164154], shape=(16,), dtype=float32)\n"
     ]
    }
   ],
   "source": [
    "embedding_layer = model.layers[0]\n",
    "embedding_weights = embedding_layer.weights\n",
    "print(embedding_weights[0].shape)\n",
    "\n",
    "random_layer = embedding_weights[0][randint(0,dict_size)]\n",
    "print(random_layer)"
   ]
  },
  {
   "cell_type": "markdown",
   "metadata": {},
   "source": [
    "For visualization, you just have to write each 16 dimensional vector corresponding to each word in the dictionary"
   ]
  },
  {
   "cell_type": "code",
   "execution_count": 100,
   "metadata": {},
   "outputs": [],
   "source": [
    "embeddings = embedding_weights[0]\n",
    "\n",
    "with open('./week2/meta_custom.tsv', 'w') as meta:\n",
    "    with open('./week2/vectors_custom.tsv', 'w') as vecs:\n",
    "        for word_index in range(1, dict_size):\n",
    "            word = tokenizer.index_word[word_index]\n",
    "            embed = embeddings[word_index].numpy()\n",
    "            meta.write(word+\"\\n\")\n",
    "            vecs.write(\"\\t\".join([str(x) for x in embed])+\"\\n\")\n",
    "\n"
   ]
  },
  {
   "cell_type": "code",
   "execution_count": 97,
   "metadata": {},
   "outputs": [
    {
     "data": {
      "text/plain": [
       "[-0.019889446,\n",
       " -0.083820015,\n",
       " -0.013681579,\n",
       " -0.011155984,\n",
       " -0.03354986,\n",
       " 0.03748888,\n",
       " -0.049301866,\n",
       " -0.023679575,\n",
       " -0.03697345,\n",
       " -0.04205737,\n",
       " 0.0009301033,\n",
       " -0.016190518,\n",
       " 0.05027788,\n",
       " -0.07147403,\n",
       " -0.012077646,\n",
       " -0.05253376]"
      ]
     },
     "execution_count": 97,
     "metadata": {},
     "output_type": "execute_result"
    }
   ],
   "source": [
    "[i for i in embeddings[0].numpy()]"
   ]
  },
  {
   "cell_type": "code",
   "execution_count": null,
   "metadata": {},
   "outputs": [],
   "source": []
  }
 ],
 "metadata": {
  "kernelspec": {
   "display_name": "Python 3",
   "language": "python",
   "name": "python3"
  },
  "language_info": {
   "codemirror_mode": {
    "name": "ipython",
    "version": 3
   },
   "file_extension": ".py",
   "mimetype": "text/x-python",
   "name": "python",
   "nbconvert_exporter": "python",
   "pygments_lexer": "ipython3",
   "version": "3.9.6"
  }
 },
 "nbformat": 4,
 "nbformat_minor": 2
}
