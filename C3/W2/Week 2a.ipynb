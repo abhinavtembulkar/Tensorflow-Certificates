{
 "cells": [
  {
   "cell_type": "markdown",
   "metadata": {},
   "source": [
    "# Modeling on sarcasm dataset"
   ]
  },
  {
   "cell_type": "markdown",
   "metadata": {},
   "source": [
    "## Loading data"
   ]
  },
  {
   "cell_type": "code",
   "execution_count": 14,
   "metadata": {},
   "outputs": [
    {
     "name": "stdout",
     "output_type": "stream",
     "text": [
      "26709\n",
      "[{'article_link': 'https://www.huffingtonpost.com/entry/versace-black-code_us_5861fbefe4b0de3a08f600d5', 'headline': \"former versace store clerk sues over secret 'black code' for minority shoppers\", 'is_sarcastic': 0}, {'article_link': 'https://www.huffingtonpost.com/entry/roseanne-revival-review_us_5ab3a497e4b054d118e04365', 'headline': \"the 'roseanne' revival catches up to our thorny political mood, for better and worse\", 'is_sarcastic': 0}, {'article_link': 'https://local.theonion.com/mom-starting-to-fear-son-s-web-series-closest-thing-she-1819576697', 'headline': \"mom starting to fear son's web series closest thing she will have to grandchild\", 'is_sarcastic': 1}, {'article_link': 'https://politics.theonion.com/boehner-just-wants-wife-to-listen-not-come-up-with-alt-1819574302', 'headline': 'boehner just wants wife to listen, not come up with alternative debt-reduction ideas', 'is_sarcastic': 1}, {'article_link': 'https://www.huffingtonpost.com/entry/jk-rowling-wishes-snape-happy-birthday_us_569117c4e4b0cad15e64fdcb', 'headline': 'j.k. rowling wishes snape happy birthday in the most magical way', 'is_sarcastic': 0}, {'article_link': 'https://www.huffingtonpost.com/entry/advancing-the-worlds-women_b_6810038.html', 'headline': \"advancing the world's women\", 'is_sarcastic': 0}, {'article_link': 'https://www.huffingtonpost.com/entry/how-meat-is-grown-in-a-lab_us_561d1189e4b0c5a1ce607e86', 'headline': 'the fascinating case for eating lab-grown meat', 'is_sarcastic': 0}, {'article_link': 'https://www.huffingtonpost.com/entry/boxed-college-tuition-ben_n_7445644.html', 'headline': 'this ceo will send your kids to school, if you work for his company', 'is_sarcastic': 0}, {'article_link': 'https://politics.theonion.com/top-snake-handler-leaves-sinking-huckabee-campaign-1819578231', 'headline': 'top snake handler leaves sinking huckabee campaign', 'is_sarcastic': 1}, {'article_link': 'https://www.huffingtonpost.com/entry/fridays-morning-email-inside-trumps-presser-for-the-ages_us_58a6e33ee4b07602ad53a315', 'headline': \"friday's morning email: inside trump's presser for the ages\", 'is_sarcastic': 0}]\n"
     ]
    }
   ],
   "source": [
    "from json import load\n",
    "\n",
    "with open('./ungraded_labs/sarcasm.json') as file:\n",
    "    data = load(file)\n",
    "    print(len(data))\n",
    "    print(data[:10])"
   ]
  },
  {
   "cell_type": "markdown",
   "metadata": {},
   "source": [
    "## Data preprocessing"
   ]
  },
  {
   "cell_type": "code",
   "execution_count": 47,
   "metadata": {},
   "outputs": [
    {
     "name": "stdout",
     "output_type": "stream",
     "text": [
      "21367\n",
      "5342\n"
     ]
    }
   ],
   "source": [
    "from random import shuffle\n",
    "\n",
    "shuffle(data)\n",
    "\n",
    "dataset = [obj['headline'] for obj in data]\n",
    "labels = [obj['is_sarcastic'] for obj in data]\n",
    "\n",
    "training_size = int(0.8 * len(dataset))\n",
    "training_data = dataset[:training_size]\n",
    "training_labels = labels[:training_size]\n",
    "validation_data = dataset[training_size:]\n",
    "validation_labels = labels[training_size:]\n",
    "\n",
    "print(len(training_data))\n",
    "print(len(validation_data))"
   ]
  },
  {
   "cell_type": "code",
   "execution_count": 48,
   "metadata": {},
   "outputs": [
    {
     "name": "stdout",
     "output_type": "stream",
     "text": [
      "[\"amsterdam tourist can't find 'kind bud' in phrasebook\", 'pile of crap excites publicist', '12 movies for the next 12 months', 'football fan wears off-season body paint', \"france's prime minister knows what's in a name\", 'swollen rex tillerson spotted rushing to place mouth over leaks spouting in keystone pipeline', \"someone spotted a new pixar easter egg from 'the good dinosaur'\", 'area man coasting by on good looks, work ethic, in-depth knowledge of virginia real estate law', 'breaking: still nothing', 'martha raddatz was the mvp of that horrifying debate']\n",
      "[1, 1, 0, 1, 0, 1, 0, 1, 1, 0]\n"
     ]
    }
   ],
   "source": [
    "print(dataset[:10])\n",
    "print(labels[:10])"
   ]
  },
  {
   "cell_type": "markdown",
   "metadata": {},
   "source": [
    "## Encoding Dataset"
   ]
  },
  {
   "cell_type": "markdown",
   "metadata": {},
   "source": [
    "Hyperparameters"
   ]
  },
  {
   "cell_type": "code",
   "execution_count": 144,
   "metadata": {},
   "outputs": [],
   "source": [
    "vocab_size = 4096\n",
    "sntnc_max_len = 32\n",
    "epochs = 20\n",
    "oov_tok = '<OOV>'\n",
    "pad_order = 'pre'\n",
    "trunc_order = 'post'\n",
    "embedding_dim = 16"
   ]
  },
  {
   "cell_type": "code",
   "execution_count": 145,
   "metadata": {},
   "outputs": [
    {
     "name": "stdout",
     "output_type": "stream",
     "text": [
      "26539\n"
     ]
    }
   ],
   "source": [
    "from tensorflow.keras.preprocessing.text import Tokenizer\n",
    "from tensorflow.keras.preprocessing.sequence import pad_sequences\n",
    "\n",
    "tokenizer = Tokenizer(num_words=vocab_size, oov_token=oov_tok)\n",
    "\n",
    "# Creating vocabulary from the training dataset\n",
    "tokenizer.fit_on_texts(training_data)\n",
    "print(len(tokenizer.word_index.keys()))\n",
    "\n",
    "# Padding both training & validation sequences\n",
    "train_seqs = tokenizer.texts_to_sequences(training_data)\n",
    "val_seqs = tokenizer.texts_to_sequences(validation_data)\n",
    "\n",
    "pad_train_seqs = pad_sequences(train_seqs, padding=pad_order, truncating=trunc_order, maxlen=sntnc_max_len)\n",
    "pad_val_seqs = pad_sequences(val_seqs, padding=pad_order, truncating=trunc_order, maxlen=sntnc_max_len)\n"
   ]
  },
  {
   "cell_type": "code",
   "execution_count": 146,
   "metadata": {},
   "outputs": [],
   "source": [
    "import numpy as np\n",
    "\n",
    "training_labels = np.array(training_labels)\n",
    "validation_labels = np.array(validation_labels)"
   ]
  },
  {
   "cell_type": "markdown",
   "metadata": {},
   "source": [
    "## Declaring Model"
   ]
  },
  {
   "cell_type": "code",
   "execution_count": 147,
   "metadata": {},
   "outputs": [
    {
     "name": "stdout",
     "output_type": "stream",
     "text": [
      "Model: \"sequential_11\"\n",
      "_________________________________________________________________\n",
      " Layer (type)                Output Shape              Param #   \n",
      "=================================================================\n",
      " embedding_11 (Embedding)    (None, 32, 16)            65536     \n",
      "                                                                 \n",
      " global_average_pooling1d_1  (None, 16)                0         \n",
      " 1 (GlobalAveragePooling1D)                                      \n",
      "                                                                 \n",
      " dense_22 (Dense)            (None, 8)                 136       \n",
      "                                                                 \n",
      " dense_23 (Dense)            (None, 1)                 9         \n",
      "                                                                 \n",
      "=================================================================\n",
      "Total params: 65681 (256.57 KB)\n",
      "Trainable params: 65681 (256.57 KB)\n",
      "Non-trainable params: 0 (0.00 Byte)\n",
      "_________________________________________________________________\n"
     ]
    }
   ],
   "source": [
    "import tensorflow as tf\n",
    "\n",
    "model = tf.keras.Sequential([\n",
    "    tf.keras.layers.Embedding(vocab_size, embedding_dim, input_length=sntnc_max_len),\n",
    "    tf.keras.layers.GlobalAveragePooling1D(),\n",
    "    tf.keras.layers.Dense(8,activation='relu'),\n",
    "    tf.keras.layers.Dense(1,activation='sigmoid')\n",
    "])\n",
    "\n",
    "model.summary()"
   ]
  },
  {
   "cell_type": "code",
   "execution_count": 148,
   "metadata": {},
   "outputs": [],
   "source": [
    "model.compile(\n",
    "    optimizer='adam',\n",
    "    loss='binary_crossentropy',\n",
    "    metrics=['accuracy']\n",
    ")"
   ]
  },
  {
   "cell_type": "markdown",
   "metadata": {},
   "source": [
    "## Model Training"
   ]
  },
  {
   "cell_type": "code",
   "execution_count": 149,
   "metadata": {},
   "outputs": [
    {
     "name": "stdout",
     "output_type": "stream",
     "text": [
      "Epoch 1/20\n",
      "668/668 [==============================] - 1s 869us/step - loss: 0.5919 - accuracy: 0.6804 - val_loss: 0.4342 - val_accuracy: 0.8184\n",
      "Epoch 2/20\n",
      "668/668 [==============================] - 0s 704us/step - loss: 0.3582 - accuracy: 0.8537 - val_loss: 0.3551 - val_accuracy: 0.8437\n",
      "Epoch 3/20\n",
      "668/668 [==============================] - 0s 690us/step - loss: 0.2962 - accuracy: 0.8777 - val_loss: 0.3448 - val_accuracy: 0.8474\n",
      "Epoch 4/20\n",
      "668/668 [==============================] - 0s 713us/step - loss: 0.2674 - accuracy: 0.8896 - val_loss: 0.3549 - val_accuracy: 0.8413\n",
      "Epoch 5/20\n",
      "668/668 [==============================] - 0s 721us/step - loss: 0.2490 - accuracy: 0.8966 - val_loss: 0.3563 - val_accuracy: 0.8459\n",
      "Epoch 6/20\n",
      "668/668 [==============================] - 0s 672us/step - loss: 0.2376 - accuracy: 0.9016 - val_loss: 0.3649 - val_accuracy: 0.8459\n",
      "Epoch 7/20\n",
      "668/668 [==============================] - 0s 685us/step - loss: 0.2274 - accuracy: 0.9060 - val_loss: 0.3803 - val_accuracy: 0.8399\n",
      "Epoch 8/20\n",
      "668/668 [==============================] - 0s 684us/step - loss: 0.2210 - accuracy: 0.9081 - val_loss: 0.3895 - val_accuracy: 0.8386\n",
      "Epoch 9/20\n",
      "668/668 [==============================] - 0s 700us/step - loss: 0.2162 - accuracy: 0.9116 - val_loss: 0.3991 - val_accuracy: 0.8399\n",
      "Epoch 10/20\n",
      "668/668 [==============================] - 0s 708us/step - loss: 0.2115 - accuracy: 0.9137 - val_loss: 0.4064 - val_accuracy: 0.8385\n",
      "Epoch 11/20\n",
      "668/668 [==============================] - 0s 675us/step - loss: 0.2076 - accuracy: 0.9155 - val_loss: 0.4149 - val_accuracy: 0.8358\n",
      "Epoch 12/20\n",
      "668/668 [==============================] - 0s 703us/step - loss: 0.2032 - accuracy: 0.9181 - val_loss: 0.4252 - val_accuracy: 0.8345\n",
      "Epoch 13/20\n",
      "668/668 [==============================] - 0s 671us/step - loss: 0.2008 - accuracy: 0.9190 - val_loss: 0.4341 - val_accuracy: 0.8321\n",
      "Epoch 14/20\n",
      "668/668 [==============================] - 0s 689us/step - loss: 0.1985 - accuracy: 0.9192 - val_loss: 0.4413 - val_accuracy: 0.8328\n",
      "Epoch 15/20\n",
      "668/668 [==============================] - 0s 700us/step - loss: 0.1959 - accuracy: 0.9222 - val_loss: 0.4488 - val_accuracy: 0.8306\n",
      "Epoch 16/20\n",
      "668/668 [==============================] - 0s 695us/step - loss: 0.1942 - accuracy: 0.9223 - val_loss: 0.4547 - val_accuracy: 0.8298\n",
      "Epoch 17/20\n",
      "668/668 [==============================] - 0s 678us/step - loss: 0.1925 - accuracy: 0.9237 - val_loss: 0.4634 - val_accuracy: 0.8287\n",
      "Epoch 18/20\n",
      "668/668 [==============================] - 0s 685us/step - loss: 0.1909 - accuracy: 0.9238 - val_loss: 0.4689 - val_accuracy: 0.8280\n",
      "Epoch 19/20\n",
      "668/668 [==============================] - 0s 680us/step - loss: 0.1891 - accuracy: 0.9239 - val_loss: 0.4775 - val_accuracy: 0.8263\n",
      "Epoch 20/20\n",
      "668/668 [==============================] - 0s 668us/step - loss: 0.1878 - accuracy: 0.9259 - val_loss: 0.4823 - val_accuracy: 0.8278\n"
     ]
    }
   ],
   "source": [
    "hist_data = model.fit(pad_train_seqs, training_labels, validation_data=(pad_val_seqs, validation_labels), epochs=epochs)"
   ]
  },
  {
   "cell_type": "markdown",
   "metadata": {},
   "source": [
    "## Plotting metrics"
   ]
  },
  {
   "cell_type": "code",
   "execution_count": 150,
   "metadata": {},
   "outputs": [
    {
     "data": {
      "image/png": "[encoded data removed]",
      "text/plain": [
       "<Figure size 640x480 with 1 Axes>"
      ]
     },
     "metadata": {},
     "output_type": "display_data"
    }
   ],
   "source": [
    "import matplotlib.pyplot as plt\n",
    "\n",
    "plt.plot(hist_data.history['accuracy'], 'r', label='training')\n",
    "plt.plot(hist_data.history['val_accuracy'], 'b', label='validation')\n",
    "plt.legend()\n",
    "plt.show()"
   ]
  },
  {
   "cell_type": "code",
   "execution_count": 151,
   "metadata": {},
   "outputs": [
    {
     "data": {
      "image/png": "[encoded data removed]",
      "text/plain": [
       "<Figure size 640x480 with 1 Axes>"
      ]
     },
     "metadata": {},
     "output_type": "display_data"
    }
   ],
   "source": [
    "plt.plot(hist_data.history['loss'], 'r', label='training')\n",
    "plt.plot(hist_data.history['val_loss'], 'b', label='validation')\n",
    "plt.legend()\n",
    "plt.show()"
   ]
  },
  {
   "cell_type": "markdown",
   "metadata": {},
   "source": [
    "## Predicting on random sentence"
   ]
  },
  {
   "cell_type": "code",
   "execution_count": 1,
   "metadata": {},
   "outputs": [
    {
     "ename": "NameError",
     "evalue": "name 'tokenizer' is not defined",
     "output_type": "error",
     "traceback": [
      "\u001b[0;31m---------------------------------------------------------------------------\u001b[0m",
      "\u001b[0;31mNameError\u001b[0m                                 Traceback (most recent call last)",
      "Cell \u001b[0;32mIn[1], line 2\u001b[0m\n\u001b[1;32m      1\u001b[0m random_sentence \u001b[38;5;241m=\u001b[39m \u001b[38;5;124m'\u001b[39m\u001b[38;5;124mProfessors Explain Why They Are Fleeing Florida\u001b[39m\u001b[38;5;124m'\u001b[39m\n\u001b[0;32m----> 2\u001b[0m random_sequence \u001b[38;5;241m=\u001b[39m \u001b[43mtokenizer\u001b[49m\u001b[38;5;241m.\u001b[39mtexts_to_sequences([random_sentence])\n\u001b[1;32m      3\u001b[0m pad_random_sequence \u001b[38;5;241m=\u001b[39m pad_sequences(random_sequence, padding\u001b[38;5;241m=\u001b[39mpad_order, truncating\u001b[38;5;241m=\u001b[39mtrunc_order, maxlen\u001b[38;5;241m=\u001b[39msntnc_max_len)\n\u001b[1;32m      4\u001b[0m output_class \u001b[38;5;241m=\u001b[39m model\u001b[38;5;241m.\u001b[39mpredict(pad_random_sequence)\n",
      "\u001b[0;31mNameError\u001b[0m: name 'tokenizer' is not defined"
     ]
    }
   ],
   "source": [
    "random_sentence = 'dad accidently opens while fixing sink'\n",
    "random_sequence = tokenizer.texts_to_sequences([random_sentence])\n",
    "pad_random_sequence = pad_sequences(random_sequence, padding=pad_order, truncating=trunc_order, maxlen=sntnc_max_len)\n",
    "output_class = model.predict(pad_random_sequence)\n",
    "\n",
    "print(output_class)\n",
    "if output_class[0] > 0.5:\n",
    "    print('Sarcasm')\n",
    "else:\n",
    "    print('Not sarcasm')"
   ]
  },
  {
   "cell_type": "markdown",
   "metadata": {},
   "source": [
    "## Saving this model for future use"
   ]
  },
  {
   "cell_type": "code",
   "execution_count": 169,
   "metadata": {},
   "outputs": [],
   "source": [
    "# model.save('sarcasm_detector.keras')"
   ]
  },
  {
   "cell_type": "code",
   "execution_count": 170,
   "metadata": {},
   "outputs": [
    {
     "name": "stdout",
     "output_type": "stream",
     "text": [
      "1/1 [==============================] - 0s 29ms/step\n",
      "[[0.73296183]]\n"
     ]
    }
   ],
   "source": [
    "from tensorflow.keras.models import load_model\n",
    "saved_model = load_model('sarcasm_detector.keras')\n",
    "print(saved_model.predict(pad_random_sequence))"
   ]
  },
  {
   "cell_type": "code",
   "execution_count": null,
   "metadata": {},
   "outputs": [],
   "source": []
  }
 ],
 "metadata": {
  "kernelspec": {
   "display_name": "Python 3",
   "language": "python",
   "name": "python3"
  },
  "language_info": {
   "codemirror_mode": {
    "name": "ipython",
    "version": 3
   },
   "file_extension": ".py",
   "mimetype": "text/x-python",
   "name": "python",
   "nbconvert_exporter": "python",
   "pygments_lexer": "ipython3",
   "version": "3.9.6"
  }
 },
 "nbformat": 4,
 "nbformat_minor": 2
}
