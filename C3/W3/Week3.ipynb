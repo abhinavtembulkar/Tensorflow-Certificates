{
  "cells": [
    {
      "cell_type": "markdown",
      "metadata": {
        "id": "8Rx5ikmczpgd"
      },
      "source": [
        "# LSTMs for review classifications"
      ]
    },
    {
      "cell_type": "markdown",
      "metadata": {
        "id": "gPKr6OUzzpgh"
      },
      "source": [
        "## Loading Dataset"
      ]
    },
    {
      "cell_type": "code",
      "execution_count": null,
      "metadata": {},
      "outputs": [],
      "source": [
        "# ! pip install tensorflow_datasets tensorflow"
      ]
    },
    {
      "cell_type": "code",
      "execution_count": 3,
      "metadata": {
        "colab": {
          "base_uri": "https://localhost:8080/"
        },
        "id": "gwuU6xGczpgh",
        "outputId": "513f7a4a-0712-4d4b-f6f9-93219c50a64a"
      },
      "outputs": [
        {
          "name": "stderr",
          "output_type": "stream",
          "text": [
            "WARNING:absl:TFDS datasets with text encoding are deprecated and will be removed in a future version. Instead, you should use the plain text version and tokenize the text using `tensorflow_text` (See: https://www.tensorflow.org/tutorials/tensorflow_text/intro#tfdata_example)\n"
          ]
        },
        {
          "name": "stdout",
          "output_type": "stream",
          "text": [
            "{'train': <_PrefetchDataset element_spec=(TensorSpec(shape=(None,), dtype=tf.int64, name=None), TensorSpec(shape=(), dtype=tf.int64, name=None))>, 'test': <_PrefetchDataset element_spec=(TensorSpec(shape=(None,), dtype=tf.int64, name=None), TensorSpec(shape=(), dtype=tf.int64, name=None))>, 'unsupervised': <_PrefetchDataset element_spec=(TensorSpec(shape=(None,), dtype=tf.int64, name=None), TensorSpec(shape=(), dtype=tf.int64, name=None))>} tfds.core.DatasetInfo(\n",
            "    name='imdb_reviews',\n",
            "    full_name='imdb_reviews/subwords8k/1.0.0',\n",
            "    description=\"\"\"\n",
            "    Large Movie Review Dataset. This is a dataset for binary sentiment\n",
            "    classification containing substantially more data than previous benchmark\n",
            "    datasets. We provide a set of 25,000 highly polar movie reviews for training,\n",
            "    and 25,000 for testing. There is additional unlabeled data for use as well.\n",
            "    \"\"\",\n",
            "    config_description=\"\"\"\n",
            "    Uses `tfds.deprecated.text.SubwordTextEncoder` with 8k vocab size\n",
            "    \"\"\",\n",
            "    homepage='http://ai.stanford.edu/~amaas/data/sentiment/',\n",
            "    data_dir='/Users/future/tensorflow_datasets/imdb_reviews/subwords8k/1.0.0',\n",
            "    file_format=tfrecord,\n",
            "    download_size=80.23 MiB,\n",
            "    dataset_size=54.72 MiB,\n",
            "    features=FeaturesDict({\n",
            "        'label': ClassLabel(shape=(), dtype=int64, num_classes=2),\n",
            "        'text': Text(shape=(None,), dtype=int64, encoder=<SubwordTextEncoder vocab_size=8185>),\n",
            "    }),\n",
            "    supervised_keys=('text', 'label'),\n",
            "    disable_shuffling=False,\n",
            "    splits={\n",
            "        'test': <SplitInfo num_examples=25000, num_shards=1>,\n",
            "        'train': <SplitInfo num_examples=25000, num_shards=1>,\n",
            "        'unsupervised': <SplitInfo num_examples=50000, num_shards=1>,\n",
            "    },\n",
            "    citation=\"\"\"@InProceedings{maas-EtAl:2011:ACL-HLT2011,\n",
            "      author    = {Maas, Andrew L.  and  Daly, Raymond E.  and  Pham, Peter T.  and  Huang, Dan  and  Ng, Andrew Y.  and  Potts, Christopher},\n",
            "      title     = {Learning Word Vectors for Sentiment Analysis},\n",
            "      booktitle = {Proceedings of the 49th Annual Meeting of the Association for Computational Linguistics: Human Language Technologies},\n",
            "      month     = {June},\n",
            "      year      = {2011},\n",
            "      address   = {Portland, Oregon, USA},\n",
            "      publisher = {Association for Computational Linguistics},\n",
            "      pages     = {142--150},\n",
            "      url       = {http://www.aclweb.org/anthology/P11-1015}\n",
            "    }\"\"\",\n",
            ")\n"
          ]
        }
      ],
      "source": [
        "import tensorflow_datasets as tfds\n",
        "\n",
        "imdb, info = tfds.load('imdb_reviews/subwords8k', as_supervised=True, with_info=True)\n",
        "print(imdb, info)"
      ]
    },
    {
      "cell_type": "markdown",
      "metadata": {
        "id": "_wnYPPWyzpgj"
      },
      "source": [
        "## Data preprocessing"
      ]
    },
    {
      "cell_type": "code",
      "execution_count": 4,
      "metadata": {
        "colab": {
          "base_uri": "https://localhost:8080/"
        },
        "id": "Td6B_Hmjzpgj",
        "outputId": "6861b0ff-cd76-4c33-b8f7-eae58ee9c8a3"
      },
      "outputs": [
        {
          "name": "stdout",
          "output_type": "stream",
          "text": [
            "['__abstractmethods__', '__class__', '__delattr__', '__dict__', '__dir__', '__doc__', '__eq__', '__format__', '__ge__', '__getattribute__', '__getstate__', '__gt__', '__hash__', '__init__', '__init_subclass__', '__le__', '__lt__', '__module__', '__ne__', '__new__', '__reduce__', '__reduce_ex__', '__repr__', '__setattr__', '__sizeof__', '__str__', '__subclasshook__', '__weakref__', '_abc_impl', '_build_from_token_counts', '_byte_encode', '_cache_size', '_filename', '_id_to_subword', '_init_from_list', '_max_subword_len', '_read_lines_from_file', '_subword_to_id', '_subwords', '_token_to_ids', '_token_to_ids_cache', '_token_to_subwords', '_tokenizer', '_write_lines_to_file', 'build_from_corpus', 'decode', 'encode', 'load_from_file', 'save_to_file', 'subwords', 'vocab_size']\n",
            "Training size 25000\n",
            "Testing size 25000\n"
          ]
        }
      ],
      "source": [
        "tokenizer = info.features['text'].encoder\n",
        "print(dir(tokenizer))\n",
        "\n",
        "print('Training size', info.splits['train'].num_examples)\n",
        "print('Testing size', info.splits['test'].num_examples)\n",
        "\n",
        "BUFF_SIZE = info.splits['train'].num_examples\n",
        "BATCH_SIZE = 256"
      ]
    },
    {
      "cell_type": "code",
      "execution_count": 5,
      "metadata": {
        "id": "QxiXgEXozpgk"
      },
      "outputs": [],
      "source": [
        "training_dataset, testing_dataset = imdb['train'], imdb['test']\n",
        "\n",
        "training_dataset = training_dataset.shuffle(BUFF_SIZE)\n",
        "training_dataset = training_dataset.padded_batch(BATCH_SIZE)\n",
        "testing_dataset = testing_dataset.padded_batch(BATCH_SIZE)"
      ]
    },
    {
      "cell_type": "markdown",
      "metadata": {
        "id": "VJyiBKNRzpgk"
      },
      "source": [
        "## Single Layer LSTM Model"
      ]
    },
    {
      "cell_type": "markdown",
      "metadata": {
        "id": "7figeNVozpgk"
      },
      "source": [
        "### Hyperparameters"
      ]
    },
    {
      "cell_type": "code",
      "execution_count": 6,
      "metadata": {
        "id": "s3JyQWb3zpgl"
      },
      "outputs": [],
      "source": [
        "VOCAB_SIZE = tokenizer.vocab_size\n",
        "EPOCHS = 8\n",
        "EMBEDDING_DIM = 32\n",
        "LSTM_UNITS = 64\n",
        "DENSE_NEURONS = 8"
      ]
    },
    {
      "cell_type": "code",
      "execution_count": 10,
      "metadata": {
        "colab": {
          "base_uri": "https://localhost:8080/"
        },
        "id": "H2ysxSoQzpgl",
        "outputId": "71e2444a-143e-48b2-b244-f3d8e93f13ff"
      },
      "outputs": [
        {
          "name": "stdout",
          "output_type": "stream",
          "text": [
            "Model: \"sequential\"\n",
            "_________________________________________________________________\n",
            " Layer (type)                Output Shape              Param #   \n",
            "=================================================================\n",
            " embedding (Embedding)       (None, None, 32)          261920    \n",
            "                                                                 \n",
            " bidirectional (Bidirection  (None, 128)               49664     \n",
            " al)                                                             \n",
            "                                                                 \n",
            " dense (Dense)               (None, 8)                 1032      \n",
            "                                                                 \n",
            " dense_1 (Dense)             (None, 1)                 9         \n",
            "                                                                 \n",
            "=================================================================\n",
            "Total params: 312625 (1.19 MB)\n",
            "Trainable params: 312625 (1.19 MB)\n",
            "Non-trainable params: 0 (0.00 Byte)\n",
            "_________________________________________________________________\n"
          ]
        }
      ],
      "source": [
        "import tensorflow as tf\n",
        "\n",
        "model = tf.keras.Sequential([\n",
        "    tf.keras.layers.Embedding(VOCAB_SIZE, EMBEDDING_DIM),\n",
        "    tf.keras.layers.Bidirectional(tf.keras.layers.LSTM(LSTM_UNITS)),\n",
        "    tf.keras.layers.Dense(DENSE_NEURONS, activation='relu'),\n",
        "    tf.keras.layers.Dense(1, activation='sigmoid')\n",
        "])\n",
        "\n",
        "model.summary()"
      ]
    },
    {
      "cell_type": "code",
      "execution_count": null,
      "metadata": {
        "id": "ZwoYNo6Ezpgm"
      },
      "outputs": [],
      "source": [
        "model.compile(\n",
        "    optimizer='adam',\n",
        "    loss='binary_crossentropy',\n",
        "    metrics=['accuracy']\n",
        ")"
      ]
    },
    {
      "cell_type": "markdown",
      "metadata": {
        "id": "Fdtgdqn0zpgm"
      },
      "source": [
        "## Model Training"
      ]
    },
    {
      "cell_type": "code",
      "execution_count": null,
      "metadata": {
        "colab": {
          "base_uri": "https://localhost:8080/"
        },
        "id": "mOMH53z_zpgm",
        "outputId": "fa563166-87c5-429e-fbb0-e2520b702b75"
      },
      "outputs": [
        {
          "name": "stdout",
          "output_type": "stream",
          "text": [
            "Epoch 1/8\n",
            "98/98 [==============================] - 44s 370ms/step - loss: 0.6322 - accuracy: 0.6473 - val_loss: 0.5223 - val_accuracy: 0.7727\n",
            "Epoch 2/8\n",
            "98/98 [==============================] - 36s 360ms/step - loss: 0.4284 - accuracy: 0.8203 - val_loss: 0.3987 - val_accuracy: 0.8374\n",
            "Epoch 3/8\n",
            "98/98 [==============================] - 26s 248ms/step - loss: 0.3068 - accuracy: 0.8830 - val_loss: 0.4086 - val_accuracy: 0.8248\n",
            "Epoch 4/8\n",
            "98/98 [==============================] - 24s 243ms/step - loss: 0.2450 - accuracy: 0.9082 - val_loss: 0.3576 - val_accuracy: 0.8497\n",
            "Epoch 5/8\n",
            "98/98 [==============================] - 23s 232ms/step - loss: 0.2582 - accuracy: 0.9006 - val_loss: 0.4292 - val_accuracy: 0.8078\n",
            "Epoch 6/8\n",
            "98/98 [==============================] - 21s 210ms/step - loss: 0.2101 - accuracy: 0.9225 - val_loss: 0.4161 - val_accuracy: 0.8510\n",
            "Epoch 7/8\n",
            "98/98 [==============================] - 21s 211ms/step - loss: 0.1649 - accuracy: 0.9425 - val_loss: 0.4071 - val_accuracy: 0.8482\n",
            "Epoch 8/8\n",
            "98/98 [==============================] - 21s 202ms/step - loss: 0.1343 - accuracy: 0.9559 - val_loss: 0.4630 - val_accuracy: 0.8505\n"
          ]
        }
      ],
      "source": [
        "hist_data = model.fit(training_dataset, validation_data=testing_dataset, epochs=EPOCHS)"
      ]
    },
    {
      "cell_type": "markdown",
      "metadata": {
        "id": "eGlL0KPuzpgm"
      },
      "source": [
        "## Plotting Metrics"
      ]
    },
    {
      "cell_type": "code",
      "execution_count": null,
      "metadata": {
        "colab": {
          "base_uri": "https://localhost:8080/",
          "height": 452
        },
        "id": "QXMo8hB8zpgm",
        "outputId": "5cdeb7c9-7cf9-40e4-8401-19ce5cde5d4e"
      },
      "outputs": [
        {
          "data": {
            "image/png": "[encoded data removed]",
            "text/plain": [
              "<Figure size 640x480 with 1 Axes>"
            ]
          },
          "metadata": {},
          "output_type": "display_data"
        }
      ],
      "source": [
        "import matplotlib.pyplot as plt\n",
        "\n",
        "plt.plot(hist_data.history['accuracy'], 'r', label='training')\n",
        "plt.plot(hist_data.history['val_accuracy'], 'b', label='testing')\n",
        "plt.title('Accuracy')\n",
        "plt.legend()\n",
        "plt.show()"
      ]
    },
    {
      "cell_type": "code",
      "execution_count": null,
      "metadata": {
        "colab": {
          "base_uri": "https://localhost:8080/",
          "height": 452
        },
        "id": "3OIFQ2Rwzpgm",
        "outputId": "717e7e74-3dc6-41b5-81eb-a86bc7498a17"
      },
      "outputs": [
        {
          "data": {
            "image/png": "[encoded data removed]",
            "text/plain": [
              "<Figure size 640x480 with 1 Axes>"
            ]
          },
          "metadata": {},
          "output_type": "display_data"
        }
      ],
      "source": [
        "plt.plot(hist_data.history['loss'], 'r', label='training')\n",
        "plt.plot(hist_data.history['val_loss'], 'b', label='testing')\n",
        "plt.title('Loss')\n",
        "plt.legend()\n",
        "plt.show()"
      ]
    },
    {
      "cell_type": "markdown",
      "metadata": {
        "id": "3COWKrX909Ok"
      },
      "source": [
        "## Random Prediction"
      ]
    },
    {
      "cell_type": "code",
      "execution_count": null,
      "metadata": {
        "colab": {
          "base_uri": "https://localhost:8080/"
        },
        "id": "IpY-6_jtzpgn",
        "outputId": "9a18d335-2a25-4187-b5d4-2781b288a795"
      },
      "outputs": [
        {
          "name": "stdout",
          "output_type": "stream",
          "text": [
            "1/1 [==============================] - 1s 727ms/step\n",
            "[[0.7955675]]\n",
            "pos review\n"
          ]
        }
      ],
      "source": [
        "random_sentence = b'This movie is Best shit'\n",
        "random_sequence = tokenizer.encode(random_sentence)\n",
        "outputs = model.predict([random_sequence])\n",
        "print(outputs)\n",
        "\n",
        "if outputs[0] > 0.5:\n",
        "    print(info.features['label'].names[1],'review')\n",
        "else:\n",
        "    print(info.features['label'].names[0],'review')"
      ]
    },
    {
      "cell_type": "markdown",
      "metadata": {
        "id": "67FyAnfS7NVE"
      },
      "source": [
        "## Saving embeddings"
      ]
    },
    {
      "cell_type": "code",
      "execution_count": null,
      "metadata": {
        "colab": {
          "base_uri": "https://localhost:8080/"
        },
        "id": "Uom5hUgb1lAq",
        "outputId": "ecb3f8d9-71e9-4b4c-96ec-3925a26615e4"
      },
      "outputs": [
        {
          "name": "stdout",
          "output_type": "stream",
          "text": [
            "(8185, 32)\n"
          ]
        }
      ],
      "source": [
        "# Get the index-word dictionary\n",
        "# reverse_word_index = tokenizer.index_word\n",
        "\n",
        "# Get the embedding layer from the model (i.e. first layer)\n",
        "embedding_layer = model.layers[0]\n",
        "\n",
        "# Get the weights of the embedding layer\n",
        "embedding_weights = embedding_layer.get_weights()[0]\n",
        "\n",
        "# Print the shape. Expected is (vocab_size, embedding_dim)\n",
        "print(embedding_weights.shape)\n"
      ]
    },
    {
      "cell_type": "code",
      "execution_count": null,
      "metadata": {
        "id": "BOED4pqu7aGh"
      },
      "outputs": [],
      "source": [
        "! mkdir ./week3"
      ]
    },
    {
      "cell_type": "code",
      "execution_count": null,
      "metadata": {
        "id": "TIaCpUZg7XmG"
      },
      "outputs": [],
      "source": [
        "import io\n",
        "\n",
        "# Open writeable files\n",
        "out_v = io.open('./week3/vecs_subwords1.tsv', 'w', encoding='utf-8')\n",
        "out_m = io.open('./week3/meta_subwords1.tsv', 'w', encoding='utf-8')\n",
        "\n",
        "# Initialize the loop. Start counting at `1` because `0` is just for the padding\n",
        "for word_num in range(1, VOCAB_SIZE):\n",
        "\n",
        "  # Get the word associated at the current index\n",
        "  word_name = tokenizer._id_to_subword(word_num-1)\n",
        "\n",
        "  # Get the embedding weights associated with the current index\n",
        "  word_embedding = embedding_weights[word_num]\n",
        "\n",
        "  # Write the word name\n",
        "  out_m.write(str(word_name) + \"\\n\")\n",
        "\n",
        "  # Write the word embedding\n",
        "  out_v.write('\\t'.join([str(x) for x in word_embedding]) + \"\\n\")\n",
        "\n",
        "# Close the files\n",
        "out_v.close()\n",
        "out_m.close()"
      ]
    },
    {
      "cell_type": "markdown",
      "metadata": {
        "id": "0lze5Q4d7kht"
      },
      "source": [
        "## Multilayer LSTM model"
      ]
    },
    {
      "cell_type": "code",
      "execution_count": 11,
      "metadata": {
        "id": "Z0QlTZnV-glo"
      },
      "outputs": [],
      "source": [
        "LSTM2_UNITS = 32"
      ]
    },
    {
      "cell_type": "code",
      "execution_count": 12,
      "metadata": {
        "id": "YmmfUcZE7e1-"
      },
      "outputs": [],
      "source": [
        "import tensorflow as tf\n",
        "\n",
        "model2 = tf.keras.Sequential([\n",
        "    tf.keras.layers.Embedding(VOCAB_SIZE, EMBEDDING_DIM),\n",
        "    tf.keras.layers.Bidirectional(tf.keras.layers.LSTM(LSTM_UNITS, return_sequences=True)),\n",
        "    tf.keras.layers.Bidirectional(tf.keras.layers.LSTM(LSTM2_UNITS)),\n",
        "    tf.keras.layers.Dense(DENSE_NEURONS, activation='relu'),\n",
        "    tf.keras.layers.Dense(1, activation='sigmoid')\n",
        "])"
      ]
    },
    {
      "cell_type": "code",
      "execution_count": 13,
      "metadata": {
        "id": "AMMYBhZQ8b56"
      },
      "outputs": [],
      "source": [
        "model2.compile(\n",
        "    optimizer='adam',\n",
        "    loss='binary_crossentropy',\n",
        "    metrics=['accuracy']\n",
        ")"
      ]
    },
    {
      "cell_type": "markdown",
      "metadata": {
        "id": "7V_WaXSF8b6I"
      },
      "source": [
        "## Model Training"
      ]
    },
    {
      "cell_type": "code",
      "execution_count": 14,
      "metadata": {
        "colab": {
          "base_uri": "https://localhost:8080/"
        },
        "id": "O3XWAYML8b6I",
        "outputId": "acb61c80-f692-4862-db65-99dab62659e0"
      },
      "outputs": [
        {
          "name": "stdout",
          "output_type": "stream",
          "text": [
            "Epoch 1/8\n"
          ]
        },
        {
          "ename": "KeyboardInterrupt",
          "evalue": "",
          "output_type": "error",
          "traceback": [
            "\u001b[0;31m---------------------------------------------------------------------------\u001b[0m",
            "\u001b[0;31mKeyboardInterrupt\u001b[0m                         Traceback (most recent call last)",
            "Cell \u001b[0;32mIn[14], line 1\u001b[0m\n\u001b[0;32m----> 1\u001b[0m hist_data2 \u001b[38;5;241m=\u001b[39m model2\u001b[38;5;241m.\u001b[39mfit(training_dataset, validation_data\u001b[38;5;241m=\u001b[39mtesting_dataset, epochs\u001b[38;5;241m=\u001b[39mEPOCHS)\n",
            "File \u001b[0;32m~/anaconda3/lib/python3.11/site-packages/keras/src/utils/traceback_utils.py:65\u001b[0m, in \u001b[0;36mfilter_traceback.<locals>.error_handler\u001b[0;34m(*args, **kwargs)\u001b[0m\n\u001b[1;32m     63\u001b[0m filtered_tb \u001b[38;5;241m=\u001b[39m \u001b[38;5;28;01mNone\u001b[39;00m\n\u001b[1;32m     64\u001b[0m \u001b[38;5;28;01mtry\u001b[39;00m:\n\u001b[0;32m---> 65\u001b[0m     \u001b[38;5;28;01mreturn\u001b[39;00m fn(\u001b[38;5;241m*\u001b[39margs, \u001b[38;5;241m*\u001b[39m\u001b[38;5;241m*\u001b[39mkwargs)\n\u001b[1;32m     66\u001b[0m \u001b[38;5;28;01mexcept\u001b[39;00m \u001b[38;5;167;01mException\u001b[39;00m \u001b[38;5;28;01mas\u001b[39;00m e:\n\u001b[1;32m     67\u001b[0m     filtered_tb \u001b[38;5;241m=\u001b[39m _process_traceback_frames(e\u001b[38;5;241m.\u001b[39m__traceback__)\n",
            "File \u001b[0;32m~/anaconda3/lib/python3.11/site-packages/keras/src/engine/training.py:1807\u001b[0m, in \u001b[0;36mModel.fit\u001b[0;34m(self, x, y, batch_size, epochs, verbose, callbacks, validation_split, validation_data, shuffle, class_weight, sample_weight, initial_epoch, steps_per_epoch, validation_steps, validation_batch_size, validation_freq, max_queue_size, workers, use_multiprocessing)\u001b[0m\n\u001b[1;32m   1799\u001b[0m \u001b[38;5;28;01mwith\u001b[39;00m tf\u001b[38;5;241m.\u001b[39mprofiler\u001b[38;5;241m.\u001b[39mexperimental\u001b[38;5;241m.\u001b[39mTrace(\n\u001b[1;32m   1800\u001b[0m     \u001b[38;5;124m\"\u001b[39m\u001b[38;5;124mtrain\u001b[39m\u001b[38;5;124m\"\u001b[39m,\n\u001b[1;32m   1801\u001b[0m     epoch_num\u001b[38;5;241m=\u001b[39mepoch,\n\u001b[0;32m   (...)\u001b[0m\n\u001b[1;32m   1804\u001b[0m     _r\u001b[38;5;241m=\u001b[39m\u001b[38;5;241m1\u001b[39m,\n\u001b[1;32m   1805\u001b[0m ):\n\u001b[1;32m   1806\u001b[0m     callbacks\u001b[38;5;241m.\u001b[39mon_train_batch_begin(step)\n\u001b[0;32m-> 1807\u001b[0m     tmp_logs \u001b[38;5;241m=\u001b[39m \u001b[38;5;28mself\u001b[39m\u001b[38;5;241m.\u001b[39mtrain_function(iterator)\n\u001b[1;32m   1808\u001b[0m     \u001b[38;5;28;01mif\u001b[39;00m data_handler\u001b[38;5;241m.\u001b[39mshould_sync:\n\u001b[1;32m   1809\u001b[0m         context\u001b[38;5;241m.\u001b[39masync_wait()\n",
            "File \u001b[0;32m~/anaconda3/lib/python3.11/site-packages/tensorflow/python/util/traceback_utils.py:150\u001b[0m, in \u001b[0;36mfilter_traceback.<locals>.error_handler\u001b[0;34m(*args, **kwargs)\u001b[0m\n\u001b[1;32m    148\u001b[0m filtered_tb \u001b[38;5;241m=\u001b[39m \u001b[38;5;28;01mNone\u001b[39;00m\n\u001b[1;32m    149\u001b[0m \u001b[38;5;28;01mtry\u001b[39;00m:\n\u001b[0;32m--> 150\u001b[0m   \u001b[38;5;28;01mreturn\u001b[39;00m fn(\u001b[38;5;241m*\u001b[39margs, \u001b[38;5;241m*\u001b[39m\u001b[38;5;241m*\u001b[39mkwargs)\n\u001b[1;32m    151\u001b[0m \u001b[38;5;28;01mexcept\u001b[39;00m \u001b[38;5;167;01mException\u001b[39;00m \u001b[38;5;28;01mas\u001b[39;00m e:\n\u001b[1;32m    152\u001b[0m   filtered_tb \u001b[38;5;241m=\u001b[39m _process_traceback_frames(e\u001b[38;5;241m.\u001b[39m__traceback__)\n",
            "File \u001b[0;32m~/anaconda3/lib/python3.11/site-packages/tensorflow/python/eager/polymorphic_function/polymorphic_function.py:832\u001b[0m, in \u001b[0;36mFunction.__call__\u001b[0;34m(self, *args, **kwds)\u001b[0m\n\u001b[1;32m    829\u001b[0m compiler \u001b[38;5;241m=\u001b[39m \u001b[38;5;124m\"\u001b[39m\u001b[38;5;124mxla\u001b[39m\u001b[38;5;124m\"\u001b[39m \u001b[38;5;28;01mif\u001b[39;00m \u001b[38;5;28mself\u001b[39m\u001b[38;5;241m.\u001b[39m_jit_compile \u001b[38;5;28;01melse\u001b[39;00m \u001b[38;5;124m\"\u001b[39m\u001b[38;5;124mnonXla\u001b[39m\u001b[38;5;124m\"\u001b[39m\n\u001b[1;32m    831\u001b[0m \u001b[38;5;28;01mwith\u001b[39;00m OptionalXlaContext(\u001b[38;5;28mself\u001b[39m\u001b[38;5;241m.\u001b[39m_jit_compile):\n\u001b[0;32m--> 832\u001b[0m   result \u001b[38;5;241m=\u001b[39m \u001b[38;5;28mself\u001b[39m\u001b[38;5;241m.\u001b[39m_call(\u001b[38;5;241m*\u001b[39margs, \u001b[38;5;241m*\u001b[39m\u001b[38;5;241m*\u001b[39mkwds)\n\u001b[1;32m    834\u001b[0m new_tracing_count \u001b[38;5;241m=\u001b[39m \u001b[38;5;28mself\u001b[39m\u001b[38;5;241m.\u001b[39mexperimental_get_tracing_count()\n\u001b[1;32m    835\u001b[0m without_tracing \u001b[38;5;241m=\u001b[39m (tracing_count \u001b[38;5;241m==\u001b[39m new_tracing_count)\n",
            "File \u001b[0;32m~/anaconda3/lib/python3.11/site-packages/tensorflow/python/eager/polymorphic_function/polymorphic_function.py:905\u001b[0m, in \u001b[0;36mFunction._call\u001b[0;34m(self, *args, **kwds)\u001b[0m\n\u001b[1;32m    901\u001b[0m     \u001b[38;5;28;01mpass\u001b[39;00m  \u001b[38;5;66;03m# Fall through to cond-based initialization.\u001b[39;00m\n\u001b[1;32m    902\u001b[0m   \u001b[38;5;28;01melse\u001b[39;00m:\n\u001b[1;32m    903\u001b[0m     \u001b[38;5;66;03m# Lifting succeeded, so variables are initialized and we can run the\u001b[39;00m\n\u001b[1;32m    904\u001b[0m     \u001b[38;5;66;03m# no_variable_creation function.\u001b[39;00m\n\u001b[0;32m--> 905\u001b[0m     \u001b[38;5;28;01mreturn\u001b[39;00m tracing_compilation\u001b[38;5;241m.\u001b[39mcall_function(\n\u001b[1;32m    906\u001b[0m         args, kwds, \u001b[38;5;28mself\u001b[39m\u001b[38;5;241m.\u001b[39m_no_variable_creation_config\n\u001b[1;32m    907\u001b[0m     )\n\u001b[1;32m    908\u001b[0m \u001b[38;5;28;01melse\u001b[39;00m:\n\u001b[1;32m    909\u001b[0m   bound_args \u001b[38;5;241m=\u001b[39m \u001b[38;5;28mself\u001b[39m\u001b[38;5;241m.\u001b[39m_concrete_variable_creation_fn\u001b[38;5;241m.\u001b[39mfunction_type\u001b[38;5;241m.\u001b[39mbind(\n\u001b[1;32m    910\u001b[0m       \u001b[38;5;241m*\u001b[39margs, \u001b[38;5;241m*\u001b[39m\u001b[38;5;241m*\u001b[39mkwds\n\u001b[1;32m    911\u001b[0m   )\n",
            "File \u001b[0;32m~/anaconda3/lib/python3.11/site-packages/tensorflow/python/eager/polymorphic_function/tracing_compilation.py:139\u001b[0m, in \u001b[0;36mcall_function\u001b[0;34m(args, kwargs, tracing_options)\u001b[0m\n\u001b[1;32m    137\u001b[0m bound_args \u001b[38;5;241m=\u001b[39m function\u001b[38;5;241m.\u001b[39mfunction_type\u001b[38;5;241m.\u001b[39mbind(\u001b[38;5;241m*\u001b[39margs, \u001b[38;5;241m*\u001b[39m\u001b[38;5;241m*\u001b[39mkwargs)\n\u001b[1;32m    138\u001b[0m flat_inputs \u001b[38;5;241m=\u001b[39m function\u001b[38;5;241m.\u001b[39mfunction_type\u001b[38;5;241m.\u001b[39munpack_inputs(bound_args)\n\u001b[0;32m--> 139\u001b[0m \u001b[38;5;28;01mreturn\u001b[39;00m function\u001b[38;5;241m.\u001b[39m_call_flat(  \u001b[38;5;66;03m# pylint: disable=protected-access\u001b[39;00m\n\u001b[1;32m    140\u001b[0m     flat_inputs, captured_inputs\u001b[38;5;241m=\u001b[39mfunction\u001b[38;5;241m.\u001b[39mcaptured_inputs\n\u001b[1;32m    141\u001b[0m )\n",
            "File \u001b[0;32m~/anaconda3/lib/python3.11/site-packages/tensorflow/python/eager/polymorphic_function/concrete_function.py:1323\u001b[0m, in \u001b[0;36mConcreteFunction._call_flat\u001b[0;34m(self, tensor_inputs, captured_inputs)\u001b[0m\n\u001b[1;32m   1319\u001b[0m possible_gradient_type \u001b[38;5;241m=\u001b[39m gradients_util\u001b[38;5;241m.\u001b[39mPossibleTapeGradientTypes(args)\n\u001b[1;32m   1320\u001b[0m \u001b[38;5;28;01mif\u001b[39;00m (possible_gradient_type \u001b[38;5;241m==\u001b[39m gradients_util\u001b[38;5;241m.\u001b[39mPOSSIBLE_GRADIENT_TYPES_NONE\n\u001b[1;32m   1321\u001b[0m     \u001b[38;5;129;01mand\u001b[39;00m executing_eagerly):\n\u001b[1;32m   1322\u001b[0m   \u001b[38;5;66;03m# No tape is watching; skip to running the function.\u001b[39;00m\n\u001b[0;32m-> 1323\u001b[0m   \u001b[38;5;28;01mreturn\u001b[39;00m \u001b[38;5;28mself\u001b[39m\u001b[38;5;241m.\u001b[39m_inference_function\u001b[38;5;241m.\u001b[39mcall_preflattened(args)\n\u001b[1;32m   1324\u001b[0m forward_backward \u001b[38;5;241m=\u001b[39m \u001b[38;5;28mself\u001b[39m\u001b[38;5;241m.\u001b[39m_select_forward_and_backward_functions(\n\u001b[1;32m   1325\u001b[0m     args,\n\u001b[1;32m   1326\u001b[0m     possible_gradient_type,\n\u001b[1;32m   1327\u001b[0m     executing_eagerly)\n\u001b[1;32m   1328\u001b[0m forward_function, args_with_tangents \u001b[38;5;241m=\u001b[39m forward_backward\u001b[38;5;241m.\u001b[39mforward()\n",
            "File \u001b[0;32m~/anaconda3/lib/python3.11/site-packages/tensorflow/python/eager/polymorphic_function/atomic_function.py:216\u001b[0m, in \u001b[0;36mAtomicFunction.call_preflattened\u001b[0;34m(self, args)\u001b[0m\n\u001b[1;32m    214\u001b[0m \u001b[38;5;28;01mdef\u001b[39;00m \u001b[38;5;21mcall_preflattened\u001b[39m(\u001b[38;5;28mself\u001b[39m, args: Sequence[core\u001b[38;5;241m.\u001b[39mTensor]) \u001b[38;5;241m-\u001b[39m\u001b[38;5;241m>\u001b[39m Any:\n\u001b[1;32m    215\u001b[0m \u001b[38;5;250m  \u001b[39m\u001b[38;5;124;03m\"\"\"Calls with flattened tensor inputs and returns the structured output.\"\"\"\u001b[39;00m\n\u001b[0;32m--> 216\u001b[0m   flat_outputs \u001b[38;5;241m=\u001b[39m \u001b[38;5;28mself\u001b[39m\u001b[38;5;241m.\u001b[39mcall_flat(\u001b[38;5;241m*\u001b[39margs)\n\u001b[1;32m    217\u001b[0m   \u001b[38;5;28;01mreturn\u001b[39;00m \u001b[38;5;28mself\u001b[39m\u001b[38;5;241m.\u001b[39mfunction_type\u001b[38;5;241m.\u001b[39mpack_output(flat_outputs)\n",
            "File \u001b[0;32m~/anaconda3/lib/python3.11/site-packages/tensorflow/python/eager/polymorphic_function/atomic_function.py:251\u001b[0m, in \u001b[0;36mAtomicFunction.call_flat\u001b[0;34m(self, *args)\u001b[0m\n\u001b[1;32m    249\u001b[0m \u001b[38;5;28;01mwith\u001b[39;00m record\u001b[38;5;241m.\u001b[39mstop_recording():\n\u001b[1;32m    250\u001b[0m   \u001b[38;5;28;01mif\u001b[39;00m \u001b[38;5;28mself\u001b[39m\u001b[38;5;241m.\u001b[39m_bound_context\u001b[38;5;241m.\u001b[39mexecuting_eagerly():\n\u001b[0;32m--> 251\u001b[0m     outputs \u001b[38;5;241m=\u001b[39m \u001b[38;5;28mself\u001b[39m\u001b[38;5;241m.\u001b[39m_bound_context\u001b[38;5;241m.\u001b[39mcall_function(\n\u001b[1;32m    252\u001b[0m         \u001b[38;5;28mself\u001b[39m\u001b[38;5;241m.\u001b[39mname,\n\u001b[1;32m    253\u001b[0m         \u001b[38;5;28mlist\u001b[39m(args),\n\u001b[1;32m    254\u001b[0m         \u001b[38;5;28mlen\u001b[39m(\u001b[38;5;28mself\u001b[39m\u001b[38;5;241m.\u001b[39mfunction_type\u001b[38;5;241m.\u001b[39mflat_outputs),\n\u001b[1;32m    255\u001b[0m     )\n\u001b[1;32m    256\u001b[0m   \u001b[38;5;28;01melse\u001b[39;00m:\n\u001b[1;32m    257\u001b[0m     outputs \u001b[38;5;241m=\u001b[39m make_call_op_in_graph(\n\u001b[1;32m    258\u001b[0m         \u001b[38;5;28mself\u001b[39m,\n\u001b[1;32m    259\u001b[0m         \u001b[38;5;28mlist\u001b[39m(args),\n\u001b[1;32m    260\u001b[0m         \u001b[38;5;28mself\u001b[39m\u001b[38;5;241m.\u001b[39m_bound_context\u001b[38;5;241m.\u001b[39mfunction_call_options\u001b[38;5;241m.\u001b[39mas_attrs(),\n\u001b[1;32m    261\u001b[0m     )\n",
            "File \u001b[0;32m~/anaconda3/lib/python3.11/site-packages/tensorflow/python/eager/context.py:1486\u001b[0m, in \u001b[0;36mContext.call_function\u001b[0;34m(self, name, tensor_inputs, num_outputs)\u001b[0m\n\u001b[1;32m   1484\u001b[0m cancellation_context \u001b[38;5;241m=\u001b[39m cancellation\u001b[38;5;241m.\u001b[39mcontext()\n\u001b[1;32m   1485\u001b[0m \u001b[38;5;28;01mif\u001b[39;00m cancellation_context \u001b[38;5;129;01mis\u001b[39;00m \u001b[38;5;28;01mNone\u001b[39;00m:\n\u001b[0;32m-> 1486\u001b[0m   outputs \u001b[38;5;241m=\u001b[39m execute\u001b[38;5;241m.\u001b[39mexecute(\n\u001b[1;32m   1487\u001b[0m       name\u001b[38;5;241m.\u001b[39mdecode(\u001b[38;5;124m\"\u001b[39m\u001b[38;5;124mutf-8\u001b[39m\u001b[38;5;124m\"\u001b[39m),\n\u001b[1;32m   1488\u001b[0m       num_outputs\u001b[38;5;241m=\u001b[39mnum_outputs,\n\u001b[1;32m   1489\u001b[0m       inputs\u001b[38;5;241m=\u001b[39mtensor_inputs,\n\u001b[1;32m   1490\u001b[0m       attrs\u001b[38;5;241m=\u001b[39mattrs,\n\u001b[1;32m   1491\u001b[0m       ctx\u001b[38;5;241m=\u001b[39m\u001b[38;5;28mself\u001b[39m,\n\u001b[1;32m   1492\u001b[0m   )\n\u001b[1;32m   1493\u001b[0m \u001b[38;5;28;01melse\u001b[39;00m:\n\u001b[1;32m   1494\u001b[0m   outputs \u001b[38;5;241m=\u001b[39m execute\u001b[38;5;241m.\u001b[39mexecute_with_cancellation(\n\u001b[1;32m   1495\u001b[0m       name\u001b[38;5;241m.\u001b[39mdecode(\u001b[38;5;124m\"\u001b[39m\u001b[38;5;124mutf-8\u001b[39m\u001b[38;5;124m\"\u001b[39m),\n\u001b[1;32m   1496\u001b[0m       num_outputs\u001b[38;5;241m=\u001b[39mnum_outputs,\n\u001b[0;32m   (...)\u001b[0m\n\u001b[1;32m   1500\u001b[0m       cancellation_manager\u001b[38;5;241m=\u001b[39mcancellation_context,\n\u001b[1;32m   1501\u001b[0m   )\n",
            "File \u001b[0;32m~/anaconda3/lib/python3.11/site-packages/tensorflow/python/eager/execute.py:53\u001b[0m, in \u001b[0;36mquick_execute\u001b[0;34m(op_name, num_outputs, inputs, attrs, ctx, name)\u001b[0m\n\u001b[1;32m     51\u001b[0m \u001b[38;5;28;01mtry\u001b[39;00m:\n\u001b[1;32m     52\u001b[0m   ctx\u001b[38;5;241m.\u001b[39mensure_initialized()\n\u001b[0;32m---> 53\u001b[0m   tensors \u001b[38;5;241m=\u001b[39m pywrap_tfe\u001b[38;5;241m.\u001b[39mTFE_Py_Execute(ctx\u001b[38;5;241m.\u001b[39m_handle, device_name, op_name,\n\u001b[1;32m     54\u001b[0m                                       inputs, attrs, num_outputs)\n\u001b[1;32m     55\u001b[0m \u001b[38;5;28;01mexcept\u001b[39;00m core\u001b[38;5;241m.\u001b[39m_NotOkStatusException \u001b[38;5;28;01mas\u001b[39;00m e:\n\u001b[1;32m     56\u001b[0m   \u001b[38;5;28;01mif\u001b[39;00m name \u001b[38;5;129;01mis\u001b[39;00m \u001b[38;5;129;01mnot\u001b[39;00m \u001b[38;5;28;01mNone\u001b[39;00m:\n",
            "\u001b[0;31mKeyboardInterrupt\u001b[0m: "
          ]
        }
      ],
      "source": [
        "hist_data2 = model2.fit(training_dataset, validation_data=testing_dataset, epochs=EPOCHS)"
      ]
    },
    {
      "cell_type": "markdown",
      "metadata": {
        "id": "zzrTaRnL8b6I"
      },
      "source": [
        "## Plotting Metrics"
      ]
    },
    {
      "cell_type": "code",
      "execution_count": null,
      "metadata": {
        "colab": {
          "base_uri": "https://localhost:8080/"
        },
        "id": "QCsnGupP8b6I",
        "outputId": "f8adbdc3-8c78-4f70-d8e2-a22a5c843ca6"
      },
      "outputs": [
        {
          "data": {
            "image/png": "[encoded data removed]",
            "text/plain": [
              "<Figure size 640x480 with 1 Axes>"
            ]
          },
          "metadata": {},
          "output_type": "display_data"
        }
      ],
      "source": [
        "import matplotlib.pyplot as plt\n",
        "\n",
        "plt.plot(hist_data2.history['accuracy'], 'r', label='training')\n",
        "plt.plot(hist_data2.history['val_accuracy'], 'b', label='testing')\n",
        "plt.title('Accuracy')\n",
        "plt.legend()\n",
        "plt.show()"
      ]
    },
    {
      "cell_type": "code",
      "execution_count": null,
      "metadata": {
        "colab": {
          "base_uri": "https://localhost:8080/"
        },
        "id": "Q432Quk08b6J",
        "outputId": "56397334-8fd6-4267-eb78-795ffc72a9cd"
      },
      "outputs": [
        {
          "data": {
            "image/png": "[encoded data removed]",
            "text/plain": [
              "<Figure size 640x480 with 1 Axes>"
            ]
          },
          "metadata": {},
          "output_type": "display_data"
        }
      ],
      "source": [
        "plt.plot(hist_data2.history['loss'], 'r', label='training')\n",
        "plt.plot(hist_data2.history['val_loss'], 'b', label='testing')\n",
        "plt.title('Loss')\n",
        "plt.legend()\n",
        "plt.show()"
      ]
    },
    {
      "cell_type": "markdown",
      "metadata": {
        "id": "rhHgYYuu8b6J"
      },
      "source": [
        "## Random Prediction"
      ]
    },
    {
      "cell_type": "code",
      "execution_count": null,
      "metadata": {
        "colab": {
          "base_uri": "https://localhost:8080/"
        },
        "id": "XwbBYGQB8b6J",
        "outputId": "7f195f25-196f-4773-ca6e-257f60c473e0"
      },
      "outputs": [
        {
          "name": "stdout",
          "output_type": "stream",
          "text": [
            "1/1 [==============================] - 2s 2s/step\n",
            "[[0.72037566]]\n",
            "pos review\n"
          ]
        }
      ],
      "source": [
        "random_sentence = b'This movie is Best shit'\n",
        "random_sequence = tokenizer.encode(random_sentence)\n",
        "outputs = model2.predict([random_sequence])\n",
        "print(outputs)\n",
        "\n",
        "if outputs[0] > 0.5:\n",
        "    print(info.features['label'].names[1],'review')\n",
        "else:\n",
        "    print(info.features['label'].names[0],'review')"
      ]
    },
    {
      "cell_type": "markdown",
      "metadata": {
        "id": "StlbPziK_-OB"
      },
      "source": [
        "## Saving embeddings"
      ]
    },
    {
      "cell_type": "code",
      "execution_count": null,
      "metadata": {
        "colab": {
          "base_uri": "https://localhost:8080/"
        },
        "id": "miwptZsS_-OP",
        "outputId": "70bac930-5be2-49c1-c142-cd83f3773ffe"
      },
      "outputs": [
        {
          "name": "stdout",
          "output_type": "stream",
          "text": [
            "(8185, 32)\n"
          ]
        }
      ],
      "source": [
        "# Get the index-word dictionary\n",
        "# reverse_word_index = tokenizer.index_word\n",
        "\n",
        "# Get the embedding layer from the model (i.e. first layer)\n",
        "embedding_layer = model2.layers[0]\n",
        "\n",
        "# Get the weights of the embedding layer\n",
        "embedding_weights = embedding_layer.get_weights()[0]\n",
        "\n",
        "# Print the shape. Expected is (vocab_size, embedding_dim)\n",
        "print(embedding_weights.shape)\n"
      ]
    },
    {
      "cell_type": "code",
      "execution_count": null,
      "metadata": {
        "colab": {
          "base_uri": "https://localhost:8080/"
        },
        "id": "maE4KIad_-OQ",
        "outputId": "e7d214ec-6d0f-45eb-fe7f-3341b0c863cb"
      },
      "outputs": [
        {
          "name": "stdout",
          "output_type": "stream",
          "text": [
            "mkdir: cannot create directory ‘./week3’: File exists\n"
          ]
        }
      ],
      "source": [
        "! mkdir ./week3"
      ]
    },
    {
      "cell_type": "code",
      "execution_count": null,
      "metadata": {
        "id": "3dl0ccjn_-OQ"
      },
      "outputs": [],
      "source": [
        "import io\n",
        "\n",
        "# Open writeable files\n",
        "out_v = io.open('./week3/vecs_subwords2.tsv', 'w', encoding='utf-8')\n",
        "out_m = io.open('./week3/meta_subwords2.tsv', 'w', encoding='utf-8')\n",
        "\n",
        "# Initialize the loop. Start counting at `1` because `0` is just for the padding\n",
        "for word_num in range(1, VOCAB_SIZE):\n",
        "\n",
        "  # Get the word associated at the current index\n",
        "  word_name = tokenizer._id_to_subword(word_num-1)\n",
        "\n",
        "  # Get the embedding weights associated with the current index\n",
        "  word_embedding = embedding_weights[word_num]\n",
        "\n",
        "  # Write the word name\n",
        "  out_m.write(str(word_name) + \"\\n\")\n",
        "\n",
        "  # Write the word embedding\n",
        "  out_v.write('\\t'.join([str(x) for x in word_embedding]) + \"\\n\")\n",
        "\n",
        "# Close the files\n",
        "out_v.close()\n",
        "out_m.close()"
      ]
    },
    {
      "cell_type": "markdown",
      "metadata": {},
      "source": [
        "## CNN layer Model"
      ]
    },
    {
      "cell_type": "markdown",
      "metadata": {},
      "source": [
        "Hyperparameters"
      ]
    },
    {
      "cell_type": "code",
      "execution_count": 7,
      "metadata": {},
      "outputs": [],
      "source": [
        "VOCAB_SIZE = tokenizer.vocab_size\n",
        "EMBEDDING_DIM = 32\n",
        "NUM_FILTERS = 16\n",
        "FILTER_SIZE = (3,)"
      ]
    },
    {
      "cell_type": "code",
      "execution_count": 8,
      "metadata": {
        "id": "BZ7qvXPN-wP3"
      },
      "outputs": [
        {
          "name": "stdout",
          "output_type": "stream",
          "text": [
            "Model: \"sequential\"\n",
            "_________________________________________________________________\n",
            " Layer (type)                Output Shape              Param #   \n",
            "=================================================================\n",
            " embedding (Embedding)       (None, None, 32)          261920    \n",
            "                                                                 \n",
            " conv1d (Conv1D)             (None, None, 16)          1552      \n",
            "                                                                 \n",
            " global_average_pooling1d (  (None, 16)                0         \n",
            " GlobalAveragePooling1D)                                         \n",
            "                                                                 \n",
            " dense (Dense)               (None, 8)                 136       \n",
            "                                                                 \n",
            " dense_1 (Dense)             (None, 1)                 9         \n",
            "                                                                 \n",
            "=================================================================\n",
            "Total params: 263617 (1.01 MB)\n",
            "Trainable params: 263617 (1.01 MB)\n",
            "Non-trainable params: 0 (0.00 Byte)\n",
            "_________________________________________________________________\n"
          ]
        }
      ],
      "source": [
        "from tensorflow.keras import Sequential\n",
        "from tensorflow.keras.layers import Dense, Conv1D, Embedding, GlobalAveragePooling1D\n",
        "\n",
        "model3 = Sequential([\n",
        "    Embedding(VOCAB_SIZE, EMBEDDING_DIM),\n",
        "    Conv1D(NUM_FILTERS, FILTER_SIZE, activation='relu'),\n",
        "    GlobalAveragePooling1D(),\n",
        "\n",
        "    Dense(8, activation='relu'),\n",
        "    Dense(1, activation='sigmoid')\n",
        "])\n",
        "\n",
        "model3.summary()"
      ]
    },
    {
      "cell_type": "code",
      "execution_count": 9,
      "metadata": {},
      "outputs": [],
      "source": [
        "model3.compile(\n",
        "    optimizer='adam',\n",
        "    loss='binary_crossentropy',\n",
        "    metrics=['accuracy']\n",
        ")"
      ]
    },
    {
      "cell_type": "markdown",
      "metadata": {},
      "source": [
        "## Model Training"
      ]
    },
    {
      "cell_type": "code",
      "execution_count": 10,
      "metadata": {},
      "outputs": [
        {
          "name": "stdout",
          "output_type": "stream",
          "text": [
            "Epoch 1/16\n",
            "98/98 [==============================] - 6s 59ms/step - loss: 0.6924 - accuracy: 0.5120 - val_loss: 0.6885 - val_accuracy: 0.5819\n",
            "Epoch 2/16\n",
            "98/98 [==============================] - 5s 55ms/step - loss: 0.6637 - accuracy: 0.6365 - val_loss: 0.6238 - val_accuracy: 0.7773\n",
            "Epoch 3/16\n",
            "98/98 [==============================] - 6s 62ms/step - loss: 0.5340 - accuracy: 0.8002 - val_loss: 0.4595 - val_accuracy: 0.8272\n",
            "Epoch 4/16\n",
            "98/98 [==============================] - 6s 62ms/step - loss: 0.3725 - accuracy: 0.8801 - val_loss: 0.3661 - val_accuracy: 0.8675\n",
            "Epoch 5/16\n",
            "98/98 [==============================] - 6s 57ms/step - loss: 0.2898 - accuracy: 0.9045 - val_loss: 0.3308 - val_accuracy: 0.8761\n",
            "Epoch 6/16\n",
            "98/98 [==============================] - 5s 53ms/step - loss: 0.2492 - accuracy: 0.9167 - val_loss: 0.3151 - val_accuracy: 0.8791\n",
            "Epoch 7/16\n",
            "98/98 [==============================] - 5s 54ms/step - loss: 0.2213 - accuracy: 0.9251 - val_loss: 0.3225 - val_accuracy: 0.8726\n",
            "Epoch 8/16\n",
            "98/98 [==============================] - 6s 58ms/step - loss: 0.2024 - accuracy: 0.9310 - val_loss: 0.3127 - val_accuracy: 0.8799\n",
            "Epoch 9/16\n",
            "98/98 [==============================] - 6s 62ms/step - loss: 0.1837 - accuracy: 0.9383 - val_loss: 0.3149 - val_accuracy: 0.8807\n",
            "Epoch 10/16\n",
            "98/98 [==============================] - 6s 59ms/step - loss: 0.1701 - accuracy: 0.9436 - val_loss: 0.3231 - val_accuracy: 0.8780\n",
            "Epoch 11/16\n",
            "98/98 [==============================] - 6s 56ms/step - loss: 0.1571 - accuracy: 0.9482 - val_loss: 0.3297 - val_accuracy: 0.8778\n",
            "Epoch 12/16\n",
            "98/98 [==============================] - 6s 56ms/step - loss: 0.1482 - accuracy: 0.9514 - val_loss: 0.3440 - val_accuracy: 0.8743\n",
            "Epoch 13/16\n",
            "98/98 [==============================] - 6s 56ms/step - loss: 0.1391 - accuracy: 0.9544 - val_loss: 0.3491 - val_accuracy: 0.8744\n",
            "Epoch 14/16\n",
            "98/98 [==============================] - 6s 57ms/step - loss: 0.1304 - accuracy: 0.9572 - val_loss: 0.3605 - val_accuracy: 0.8733\n",
            "Epoch 15/16\n",
            "98/98 [==============================] - 6s 57ms/step - loss: 0.1227 - accuracy: 0.9604 - val_loss: 0.3720 - val_accuracy: 0.8718\n",
            "Epoch 16/16\n",
            "98/98 [==============================] - 6s 57ms/step - loss: 0.1154 - accuracy: 0.9641 - val_loss: 0.3869 - val_accuracy: 0.8701\n"
          ]
        }
      ],
      "source": [
        "hist_data3 = model3.fit(training_dataset, validation_data=testing_dataset, epochs=16)"
      ]
    },
    {
      "cell_type": "markdown",
      "metadata": {},
      "source": [
        "## Plotting data"
      ]
    },
    {
      "cell_type": "code",
      "execution_count": 11,
      "metadata": {},
      "outputs": [
        {
          "data": {
            "image/png": "[encoded data removed]",
            "text/plain": [
              "<Figure size 640x480 with 1 Axes>"
            ]
          },
          "metadata": {},
          "output_type": "display_data"
        }
      ],
      "source": [
        "import matplotlib.pyplot as plt\n",
        "\n",
        "plt.plot(hist_data3.history['accuracy'], 'r', label='training')\n",
        "plt.plot(hist_data3.history['val_accuracy'], 'b', label='validation')\n",
        "plt.title('Accuracy')\n",
        "plt.legend()\n",
        "plt.show()"
      ]
    },
    {
      "cell_type": "code",
      "execution_count": 12,
      "metadata": {},
      "outputs": [
        {
          "data": {
            "image/png": "[encoded data removed]",
            "text/plain": [
              "<Figure size 640x480 with 1 Axes>"
            ]
          },
          "metadata": {},
          "output_type": "display_data"
        }
      ],
      "source": [
        "plt.plot(hist_data3.history['loss'], 'r', label='training')\n",
        "plt.plot(hist_data3.history['val_loss'], 'b', label='validation')\n",
        "plt.title('Loss')\n",
        "plt.legend()\n",
        "plt.show()"
      ]
    },
    {
      "cell_type": "markdown",
      "metadata": {},
      "source": [
        "Observations: CNN based model performs best out of all when trained on less no.of epochs. "
      ]
    },
    {
      "cell_type": "markdown",
      "metadata": {},
      "source": [
        "## Understanding dimensions of CNN and LSTM layers"
      ]
    },
    {
      "cell_type": "markdown",
      "metadata": {},
      "source": [
        "CNN layer"
      ]
    },
    {
      "cell_type": "code",
      "execution_count": 23,
      "metadata": {},
      "outputs": [
        {
          "name": "stdout",
          "output_type": "stream",
          "text": [
            "tf.Tensor(\n",
            "[[[0.28642628 0.32267228 1.2288749  0.         0.7716793  0.12107529\n",
            "   1.1841463  0.         0.1804829  1.0652077  0.8055854  0.\n",
            "   0.         1.6664778  0.85709864 0.        ]\n",
            "  [0.         0.6579674  0.27599558 0.         0.         0.4048247\n",
            "   0.0335793  0.6860009  0.         0.44683272 0.31475493 0.9944911\n",
            "   0.63880396 0.         0.26064256 0.        ]\n",
            "  [0.         0.         1.2018942  0.         0.58568263 0.5064397\n",
            "   1.0909108  0.         0.3054494  1.4897078  0.82647955 0.7990318\n",
            "   0.         0.3019913  0.74824715 0.        ]\n",
            "  [0.         0.8733697  0.09746312 0.         0.63500136 0.\n",
            "   1.1512556  0.         0.3970697  0.         0.         0.\n",
            "   0.5052866  0.         1.2966173  0.0774211 ]\n",
            "  [0.         0.         0.         0.8036426  1.3519636  0.\n",
            "   1.8965473  0.         0.6120701  0.87366205 0.         0.35406575\n",
            "   0.         0.26478553 0.         0.9349004 ]\n",
            "  [0.29491132 0.         0.4340327  1.5948286  0.         0.48242185\n",
            "   0.         0.         1.6046559  0.         0.         0.\n",
            "   0.         0.         0.         2.3880618 ]\n",
            "  [1.5383894  0.         1.2263347  0.7474993  1.3098403  2.401688\n",
            "   0.88136494 1.2057985  1.3776449  0.43646938 0.         0.\n",
            "   0.10177943 0.16286492 1.032988   1.044915  ]\n",
            "  [1.6824687  1.6342796  0.         0.         0.         0.05060479\n",
            "   0.         0.         0.         0.7957942  0.9853327  0.8229863\n",
            "   0.8448435  0.6168915  1.2929465  0.        ]\n",
            "  [0.         0.         0.63709474 0.         0.04649153 0.85187644\n",
            "   0.8146009  0.         0.         0.         0.2881699  0.9877364\n",
            "   0.72024524 0.7706008  0.02260165 0.9266311 ]\n",
            "  [0.         0.         0.         0.         0.         1.7682099\n",
            "   0.         0.15542872 0.8965211  0.         0.         0.76813674\n",
            "   0.         0.         0.         0.        ]\n",
            "  [0.         0.02613746 0.         0.59930074 0.2538585  0.\n",
            "   1.1034294  0.38875458 0.546199   0.39172935 0.         1.051458\n",
            "   1.004906   0.18333228 0.         0.        ]\n",
            "  [0.34965786 0.         0.1305711  0.93272007 0.         0.\n",
            "   0.         0.99867654 0.11510186 0.29493964 1.0552081  0.\n",
            "   0.         1.3267525  1.813854   0.71238077]\n",
            "  [0.20361288 0.         0.15769057 0.         1.3906578  1.5534873\n",
            "   1.1170111  0.9645603  0.         0.44831845 1.2122397  0.2019515\n",
            "   0.         0.2889442  0.3404916  0.0046429 ]\n",
            "  [0.07757755 0.34473926 0.97390985 0.30604166 0.         0.\n",
            "   0.         0.         0.         0.29391047 0.         0.\n",
            "   0.83082306 0.         0.         1.0308819 ]\n",
            "  [0.26143074 1.2508138  0.         0.         0.         0.\n",
            "   0.0939046  1.1961812  0.         0.         1.9394958  0.21378715\n",
            "   1.2754278  0.6579202  1.1595916  0.        ]\n",
            "  [0.         0.26530394 0.93139756 0.         0.18810508 0.\n",
            "   0.         0.         0.         0.         0.98748314 0.\n",
            "   0.         0.5298868  0.         0.        ]\n",
            "  [0.         2.4055016  1.3973608  1.1061966  2.2139697  2.411944\n",
            "   0.         0.         0.07553191 0.         0.         0.\n",
            "   0.6220299  0.30315995 0.47739    0.        ]\n",
            "  [0.         0.         1.695138   0.         0.82366544 0.9502182\n",
            "   0.         0.         0.         0.         1.4387261  0.\n",
            "   0.         0.5555825  0.         0.70197636]]], shape=(1, 18, 16), dtype=float32)\n",
            "(1, 18, 16)\n"
          ]
        }
      ],
      "source": [
        "import numpy as np\n",
        "\n",
        "'''\n",
        "Single input array shape is: (batchsize, timesteps, no. of features)\n",
        "timesteps = Single Sequence Length\n",
        "no. of features = embedding dimensions of each word vector = embedding_dim\n",
        "'''\n",
        "BATCH_SIZE = 1\n",
        "TIMESTEPS = 20\n",
        "NUM_FEATURES = 16\n",
        "\n",
        "random_input = np.random.randn(BATCH_SIZE, TIMESTEPS, NUM_FEATURES)\n",
        "cnn_layer = Conv1D(NUM_FILTERS, FILTER_SIZE, activation='relu')\n",
        "result = cnn_layer(random_input)\n",
        "\n",
        "print(result)\n",
        "print(result.shape)\n",
        "# dir(cnn_layer)\n"
      ]
    },
    {
      "cell_type": "code",
      "execution_count": 26,
      "metadata": {},
      "outputs": [
        {
          "name": "stdout",
          "output_type": "stream",
          "text": [
            "tf.Tensor(\n",
            "[[0.26080415 0.43226582 0.57709765 0.33834612 0.53171754 0.6390439\n",
            "  0.520375   0.3108556  0.3394848  0.36314285 0.5474153  0.34409136\n",
            "  0.36356366 0.4238439  0.51680386 0.43454507]], shape=(1, 16), dtype=float32)\n",
            "(1, 16)\n"
          ]
        },
        {
          "data": {
            "text/plain": [
              "'\\nGAP layer sums up embeddings of all words in the sequence\\nand gives a single vector of embedding dimension\\n'"
            ]
          },
          "execution_count": 26,
          "metadata": {},
          "output_type": "execute_result"
        }
      ],
      "source": [
        "gap_result = GlobalAveragePooling1D()(result)\n",
        "print(gap_result)\n",
        "print(gap_result.shape)\n",
        "\n",
        "'''\n",
        "GAP layer sums up embeddings of all words in the sequence\n",
        "and gives a single vector of embedding dimension\n",
        "'''"
      ]
    },
    {
      "cell_type": "markdown",
      "metadata": {},
      "source": [
        "LSTM layer"
      ]
    },
    {
      "cell_type": "code",
      "execution_count": 30,
      "metadata": {},
      "outputs": [
        {
          "name": "stdout",
          "output_type": "stream",
          "text": [
            "(1, 20, 16)\n",
            "(1, 10)\n",
            "(1, 20, 10)\n"
          ]
        }
      ],
      "source": [
        "from tensorflow.keras.layers import LSTM\n",
        "\n",
        "LSTM_UNITS = 10\n",
        "\n",
        "lstm_result = LSTM(LSTM_UNITS)\n",
        "# No returning sequences\n",
        "result = lstm_result(random_input)\n",
        "print(random_input.shape)\n",
        "print(result.shape)\n",
        "\n",
        "# With returning sequences here\n",
        "lstm_result2 = LSTM(LSTM_UNITS, return_sequences=True)\n",
        "result2 = lstm_result2(random_input)\n",
        "print(result2.shape)\n"
      ]
    },
    {
      "cell_type": "markdown",
      "metadata": {},
      "source": [
        "### Saving CNN embeddings"
      ]
    },
    {
      "cell_type": "code",
      "execution_count": 32,
      "metadata": {},
      "outputs": [
        {
          "name": "stdout",
          "output_type": "stream",
          "text": [
            "(8185, 32)\n"
          ]
        }
      ],
      "source": [
        "# Get the index-word dictionary\n",
        "# reverse_word_index = tokenizer.index_word\n",
        "\n",
        "# Get the embedding layer from the model (i.e. first layer)\n",
        "embedding_layer = model3.layers[0]\n",
        "\n",
        "# Get the weights of the embedding layer\n",
        "embedding_weights = embedding_layer.get_weights()[0]\n",
        "\n",
        "# Print the shape. Expected is (vocab_size, embedding_dim)\n",
        "print(embedding_weights.shape)\n"
      ]
    },
    {
      "cell_type": "code",
      "execution_count": 33,
      "metadata": {},
      "outputs": [],
      "source": [
        "! mkdir ./week3"
      ]
    },
    {
      "cell_type": "code",
      "execution_count": 34,
      "metadata": {},
      "outputs": [],
      "source": [
        "import io\n",
        "\n",
        "# Open writeable files\n",
        "out_v = io.open('./week3/vecs_subwords3.tsv', 'w', encoding='utf-8')\n",
        "out_m = io.open('./week3/meta_subwords3.tsv', 'w', encoding='utf-8')\n",
        "\n",
        "# Initialize the loop. Start counting at `1` because `0` is just for the padding\n",
        "for word_num in range(1, VOCAB_SIZE):\n",
        "\n",
        "  # Get the word associated at the current index\n",
        "  word_name = tokenizer._id_to_subword(word_num-1)\n",
        "\n",
        "  # Get the embedding weights associated with the current index\n",
        "  word_embedding = embedding_weights[word_num]\n",
        "\n",
        "  # Write the word name\n",
        "  out_m.write(str(word_name) + \"\\n\")\n",
        "\n",
        "  # Write the word embedding\n",
        "  out_v.write('\\t'.join([str(x) for x in word_embedding]) + \"\\n\")\n",
        "\n",
        "# Close the files\n",
        "out_v.close()\n",
        "out_m.close()"
      ]
    },
    {
      "cell_type": "code",
      "execution_count": null,
      "metadata": {},
      "outputs": [],
      "source": []
    }
  ],
  "metadata": {
    "accelerator": "GPU",
    "colab": {
      "provenance": []
    },
    "kernelspec": {
      "display_name": "Python 3",
      "name": "python3"
    },
    "language_info": {
      "codemirror_mode": {
        "name": "ipython",
        "version": 3
      },
      "file_extension": ".py",
      "mimetype": "text/x-python",
      "name": "python",
      "nbconvert_exporter": "python",
      "pygments_lexer": "ipython3",
      "version": "3.11.5"
    }
  },
  "nbformat": 4,
  "nbformat_minor": 0
}
