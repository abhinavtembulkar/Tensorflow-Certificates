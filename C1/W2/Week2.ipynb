{
 "cells": [
  {
   "cell_type": "markdown",
   "metadata": {},
   "source": [
    "# Fashion MNIST"
   ]
  },
  {
   "cell_type": "markdown",
   "metadata": {},
   "source": [
    "## Imports"
   ]
  },
  {
   "cell_type": "code",
   "execution_count": 147,
   "metadata": {},
   "outputs": [],
   "source": [
    "import tensorflow as tf\n",
    "import numpy as np\n",
    "from random import randint\n",
    "import matplotlib.pyplot as plt"
   ]
  },
  {
   "cell_type": "markdown",
   "metadata": {},
   "source": [
    "## Loading data"
   ]
  },
  {
   "cell_type": "code",
   "execution_count": 148,
   "metadata": {},
   "outputs": [],
   "source": [
    "fmnist = tf.keras.datasets.fashion_mnist\n",
    "(X_train,y_train),(X_test,y_test) = fmnist.load_data()"
   ]
  },
  {
   "cell_type": "markdown",
   "metadata": {},
   "source": [
    "### Normalization"
   ]
  },
  {
   "cell_type": "code",
   "execution_count": 149,
   "metadata": {},
   "outputs": [
    {
     "name": "stdout",
     "output_type": "stream",
     "text": [
      "60000\n",
      "60000\n"
     ]
    }
   ],
   "source": [
    "print(len(X_train))\n",
    "print(len(y_train))"
   ]
  },
  {
   "cell_type": "code",
   "execution_count": 150,
   "metadata": {},
   "outputs": [],
   "source": [
    "X_train = X_train / 255\n",
    "X_test = X_test / 255"
   ]
  },
  {
   "cell_type": "code",
   "execution_count": 151,
   "metadata": {},
   "outputs": [
    {
     "name": "stdout",
     "output_type": "stream",
     "text": [
      "[[0.         0.         0.         0.         0.         0.\n",
      "  0.         0.         0.00392157 0.00392157 0.         0.\n",
      "  0.08235294 0.1254902  0.09411765 0.10980392 0.         0.\n",
      "  0.         0.         0.         0.         0.00392157 0.00392157\n",
      "  0.         0.         0.         0.        ]\n",
      " [0.         0.         0.         0.         0.         0.\n",
      "  0.         0.         0.00392157 0.         0.         0.\n",
      "  0.69803922 0.50588235 0.58039216 0.4745098  0.21960784 0.\n",
      "  0.         0.         0.00392157 0.         0.         0.\n",
      "  0.         0.         0.         0.        ]\n",
      " [0.         0.         0.         0.         0.         0.\n",
      "  0.         0.         0.         0.         0.         0.\n",
      "  0.97254902 1.         0.88235294 0.63529412 0.46666667 0.29019608\n",
      "  0.         0.         0.         0.         0.         0.\n",
      "  0.         0.         0.         0.        ]\n",
      " [0.         0.         0.         0.         0.         0.\n",
      "  0.         0.01176471 0.15294118 0.25882353 0.37254902 0.31764706\n",
      "  0.18039216 0.9254902  0.85098039 0.54117647 0.6627451  0.62745098\n",
      "  0.30196078 0.30980392 0.17647059 0.01176471 0.         0.\n",
      "  0.         0.         0.         0.        ]\n",
      " [0.         0.         0.         0.         0.         0.\n",
      "  0.14901961 0.43529412 0.34901961 0.35686275 0.27843137 0.22745098\n",
      "  0.37647059 0.28235294 0.82745098 0.55686275 0.59215686 0.20392157\n",
      "  0.27058824 0.3254902  0.37647059 0.45490196 0.09411765 0.\n",
      "  0.         0.         0.         0.        ]\n",
      " [0.         0.         0.         0.         0.         0.\n",
      "  0.29411765 0.28235294 0.24313725 0.16078431 0.21568627 0.18431373\n",
      "  0.32156863 0.03137255 0.65098039 0.49019608 0.18039216 0.21960784\n",
      "  0.25490196 0.22745098 0.22352941 0.35294118 0.30980392 0.\n",
      "  0.         0.         0.         0.        ]\n",
      " [0.         0.         0.         0.         0.         0.07058824\n",
      "  0.32941176 0.19607843 0.30588235 0.2        0.17647059 0.18823529\n",
      "  0.17647059 0.23137255 0.41568627 0.27843137 0.16078431 0.24313725\n",
      "  0.25098039 0.21960784 0.25490196 0.32941176 0.37647059 0.\n",
      "  0.         0.         0.         0.        ]\n",
      " [0.         0.         0.         0.         0.         0.18039216\n",
      "  0.2745098  0.27843137 0.19607843 0.28235294 0.17647059 0.21960784\n",
      "  0.18431373 0.29803922 0.43137255 0.13333333 0.21960784 0.2745098\n",
      "  0.24313725 0.2        0.29019608 0.4        0.29803922 0.12156863\n",
      "  0.         0.         0.         0.        ]\n",
      " [0.         0.         0.         0.         0.         0.27843137\n",
      "  0.22745098 0.35294118 0.18431373 0.19215686 0.23137255 0.19215686\n",
      "  0.18823529 0.30196078 0.29019608 0.17647059 0.21960784 0.27058824\n",
      "  0.25882353 0.16078431 0.48235294 0.45098039 0.21176471 0.29019608\n",
      "  0.         0.         0.         0.        ]\n",
      " [0.         0.         0.         0.         0.01960784 0.28235294\n",
      "  0.19607843 0.37647059 0.25490196 0.1372549  0.18431373 0.19215686\n",
      "  0.18823529 0.26666667 0.24313725 0.18039216 0.25882353 0.25098039\n",
      "  0.27058824 0.10588235 0.69803922 0.42745098 0.16862745 0.30196078\n",
      "  0.         0.         0.         0.        ]\n",
      " [0.         0.         0.         0.         0.09019608 0.31764706\n",
      "  0.16470588 0.41176471 0.40392157 0.11372549 0.2        0.2\n",
      "  0.21568627 0.22745098 0.34117647 0.17647059 0.23529412 0.24705882\n",
      "  0.27843137 0.09019608 0.76078431 0.34901961 0.15294118 0.34117647\n",
      "  0.02745098 0.         0.         0.        ]\n",
      " [0.         0.         0.         0.         0.14901961 0.27058824\n",
      "  0.16078431 0.37647059 0.42352941 0.11764706 0.21176471 0.21176471\n",
      "  0.22352941 0.25098039 0.20392157 0.22352941 0.23137255 0.23137255\n",
      "  0.26666667 0.11764706 0.76078431 0.31764706 0.13333333 0.32941176\n",
      "  0.12156863 0.         0.         0.        ]\n",
      " [0.         0.         0.         0.         0.27058824 0.31764706\n",
      "  0.22352941 0.3254902  0.45882353 0.10980392 0.20392157 0.23921569\n",
      "  0.22352941 0.23921569 0.23529412 0.2        0.26666667 0.25882353\n",
      "  0.23529412 0.1372549  0.78039216 0.30980392 0.18823529 0.36862745\n",
      "  0.28627451 0.         0.         0.        ]\n",
      " [0.         0.         0.         0.         0.09411765 0.24313725\n",
      "  0.28235294 0.49411765 0.62352941 0.11372549 0.19215686 0.24313725\n",
      "  0.21176471 0.22745098 0.3254902  0.2        0.28627451 0.27058824\n",
      "  0.29411765 0.21176471 0.82352941 0.41176471 0.2        0.18431373\n",
      "  0.06666667 0.         0.         0.        ]\n",
      " [0.         0.         0.         0.         0.         0.\n",
      "  0.         0.07843137 0.18039216 0.18823529 0.18823529 0.25098039\n",
      "  0.23921569 0.24705882 0.23921569 0.23921569 0.26666667 0.25882353\n",
      "  0.24313725 0.3372549  0.14901961 0.         0.         0.\n",
      "  0.         0.         0.         0.        ]\n",
      " [0.         0.         0.         0.         0.00392157 0.\n",
      "  0.         0.         0.00392157 0.25098039 0.20392157 0.27058824\n",
      "  0.23529412 0.23529412 0.22352941 0.24705882 0.26666667 0.26666667\n",
      "  0.22352941 0.38431373 0.08235294 0.         0.         0.\n",
      "  0.         0.         0.         0.        ]\n",
      " [0.         0.         0.         0.         0.         0.\n",
      "  0.00392157 0.         0.05490196 0.23921569 0.21176471 0.26666667\n",
      "  0.21960784 0.20392157 0.28627451 0.24313725 0.25882353 0.25882353\n",
      "  0.23529412 0.38431373 0.15294118 0.         0.00392157 0.\n",
      "  0.         0.         0.         0.        ]\n",
      " [0.         0.         0.         0.         0.         0.\n",
      "  0.00392157 0.         0.0627451  0.25490196 0.21176471 0.28627451\n",
      "  0.22352941 0.23137255 0.31764706 0.25882353 0.28235294 0.27058824\n",
      "  0.24705882 0.37254902 0.16862745 0.         0.00392157 0.\n",
      "  0.         0.         0.         0.        ]\n",
      " [0.         0.         0.         0.         0.         0.\n",
      "  0.00392157 0.         0.05882353 0.25882353 0.23529412 0.30196078\n",
      "  0.2        0.21568627 0.23529412 0.2745098  0.27843137 0.25882353\n",
      "  0.27058824 0.34117647 0.17254902 0.         0.00392157 0.\n",
      "  0.         0.         0.         0.        ]\n",
      " [0.         0.         0.         0.         0.         0.\n",
      "  0.00392157 0.         0.05882353 0.28627451 0.23921569 0.28235294\n",
      "  0.19215686 0.23921569 0.27843137 0.24705882 0.28235294 0.25490196\n",
      "  0.29411765 0.34509804 0.16862745 0.         0.00392157 0.\n",
      "  0.         0.         0.         0.        ]\n",
      " [0.         0.         0.         0.         0.         0.\n",
      "  0.00784314 0.         0.0745098  0.29803922 0.23137255 0.29411765\n",
      "  0.23137255 0.23529412 0.38431373 0.27843137 0.28235294 0.25098039\n",
      "  0.2745098  0.34509804 0.17254902 0.         0.         0.\n",
      "  0.         0.         0.         0.        ]\n",
      " [0.         0.         0.         0.         0.         0.\n",
      "  0.         0.         0.10588235 0.29803922 0.2745098  0.29803922\n",
      "  0.21568627 0.22352941 0.25490196 0.25882353 0.27058824 0.2745098\n",
      "  0.24313725 0.3254902  0.18823529 0.         0.         0.\n",
      "  0.         0.         0.         0.        ]\n",
      " [0.         0.         0.         0.         0.         0.\n",
      "  0.         0.         0.10980392 0.30196078 0.28627451 0.22745098\n",
      "  0.19607843 0.26666667 0.26666667 0.25098039 0.2745098  0.29019608\n",
      "  0.2745098  0.33333333 0.21960784 0.         0.         0.\n",
      "  0.         0.         0.         0.        ]\n",
      " [0.         0.         0.         0.         0.         0.\n",
      "  0.         0.         0.10980392 0.34901961 0.22745098 0.24313725\n",
      "  0.23529412 0.26666667 0.35686275 0.27058824 0.2745098  0.26666667\n",
      "  0.28627451 0.35294118 0.22745098 0.         0.         0.\n",
      "  0.         0.         0.         0.        ]\n",
      " [0.         0.         0.         0.         0.         0.\n",
      "  0.00392157 0.         0.1372549  0.33333333 0.2        0.29019608\n",
      "  0.24313725 0.29803922 0.27843137 0.26666667 0.28627451 0.2745098\n",
      "  0.25098039 0.37647059 0.27843137 0.         0.00392157 0.\n",
      "  0.         0.         0.         0.        ]\n",
      " [0.         0.         0.         0.         0.         0.\n",
      "  0.00784314 0.         0.1372549  0.37647059 0.23921569 0.27843137\n",
      "  0.26666667 0.33333333 0.30980392 0.29803922 0.28627451 0.29019608\n",
      "  0.29019608 0.45098039 0.27058824 0.         0.         0.\n",
      "  0.         0.         0.         0.        ]\n",
      " [0.         0.         0.         0.         0.         0.\n",
      "  0.         0.         0.         0.20392157 0.34901961 0.34509804\n",
      "  0.30588235 0.27843137 0.25490196 0.30196078 0.30196078 0.36078431\n",
      "  0.39607843 0.25882353 0.         0.         0.         0.\n",
      "  0.         0.         0.         0.        ]\n",
      " [0.         0.         0.         0.         0.         0.\n",
      "  0.         0.         0.         0.         0.0627451  0.18039216\n",
      "  0.18431373 0.18039216 0.19607843 0.26666667 0.25882353 0.16470588\n",
      "  0.05882353 0.         0.         0.         0.         0.\n",
      "  0.         0.         0.         0.        ]]\n"
     ]
    },
    {
     "data": {
      "text/plain": [
       "<matplotlib.image.AxesImage at 0x28dd27a30>"
      ]
     },
     "execution_count": 151,
     "metadata": {},
     "output_type": "execute_result"
    },
    {
     "data": {
      "image/png": "[encoded data removed]",
      "text/plain": [
       "<Figure size 640x480 with 1 Axes>"
      ]
     },
     "metadata": {},
     "output_type": "display_data"
    }
   ],
   "source": [
    "idx = randint(0,len(X_train))\n",
    "rand_image = X_train[idx]\n",
    "print(rand_image)\n",
    "\n",
    "plt.xlabel(y_train[idx])\n",
    "plt.imshow(rand_image, cmap='gray')"
   ]
  },
  {
   "cell_type": "markdown",
   "metadata": {},
   "source": [
    "## Declaring model"
   ]
  },
  {
   "cell_type": "code",
   "execution_count": 138,
   "metadata": {},
   "outputs": [],
   "source": [
    "model = tf.keras.models.Sequential([\n",
    "    tf.keras.layers.Flatten(),\n",
    "    tf.keras.layers.Dense(units=1024,activation=tf.nn.relu),\n",
    "    tf.keras.layers.Dense(units=10,activation=tf.nn.softmax)\n",
    "])"
   ]
  },
  {
   "cell_type": "code",
   "execution_count": 139,
   "metadata": {},
   "outputs": [],
   "source": [
    "model.compile(\n",
    "    optimizer='adam', \n",
    "    loss='sparse_categorical_crossentropy',\n",
    "    metrics=['accuracy']\n",
    "    )"
   ]
  },
  {
   "cell_type": "markdown",
   "metadata": {},
   "source": [
    "## Model training"
   ]
  },
  {
   "cell_type": "code",
   "execution_count": 140,
   "metadata": {},
   "outputs": [
    {
     "name": "stdout",
     "output_type": "stream",
     "text": [
      "Epoch 1/50\n",
      "1875/1875 [==============================] - 6s 3ms/step - loss: 0.4651 - accuracy: 0.8331\n",
      "Epoch 2/50\n",
      "1875/1875 [==============================] - 6s 3ms/step - loss: 0.3583 - accuracy: 0.8689\n",
      "Epoch 3/50\n",
      "1875/1875 [==============================] - 5s 3ms/step - loss: 0.3198 - accuracy: 0.8848\n",
      "Epoch 4/50\n",
      "1875/1875 [==============================] - 7s 4ms/step - loss: 0.2969 - accuracy: 0.8900\n",
      "Epoch 5/50\n",
      "1875/1875 [==============================] - 5s 3ms/step - loss: 0.2782 - accuracy: 0.8960\n",
      "Epoch 6/50\n",
      "1875/1875 [==============================] - 5s 3ms/step - loss: 0.2637 - accuracy: 0.9012\n",
      "Epoch 7/50\n",
      "1875/1875 [==============================] - 8s 4ms/step - loss: 0.2496 - accuracy: 0.9072\n",
      "Epoch 8/50\n",
      "1875/1875 [==============================] - 5s 3ms/step - loss: 0.2394 - accuracy: 0.9097\n",
      "Epoch 9/50\n",
      "1875/1875 [==============================] - 5s 3ms/step - loss: 0.2305 - accuracy: 0.9129\n",
      "Epoch 10/50\n",
      "1875/1875 [==============================] - 5s 3ms/step - loss: 0.2183 - accuracy: 0.9179\n",
      "Epoch 11/50\n",
      "1875/1875 [==============================] - 5s 3ms/step - loss: 0.2113 - accuracy: 0.9197\n",
      "Epoch 12/50\n",
      "1875/1875 [==============================] - 5s 3ms/step - loss: 0.2049 - accuracy: 0.9230\n",
      "Epoch 13/50\n",
      "1875/1875 [==============================] - 5s 3ms/step - loss: 0.1962 - accuracy: 0.9266\n",
      "Epoch 14/50\n",
      "1875/1875 [==============================] - 5s 3ms/step - loss: 0.1887 - accuracy: 0.9286\n",
      "Epoch 15/50\n",
      "1875/1875 [==============================] - 5s 3ms/step - loss: 0.1822 - accuracy: 0.9314\n",
      "Epoch 16/50\n",
      "1875/1875 [==============================] - 5s 3ms/step - loss: 0.1786 - accuracy: 0.9325\n",
      "Epoch 17/50\n",
      "1875/1875 [==============================] - 5s 3ms/step - loss: 0.1717 - accuracy: 0.9347\n",
      "Epoch 18/50\n",
      "1875/1875 [==============================] - 6s 3ms/step - loss: 0.1672 - accuracy: 0.9361\n",
      "Epoch 19/50\n",
      "1875/1875 [==============================] - 5s 3ms/step - loss: 0.1613 - accuracy: 0.9392\n",
      "Epoch 20/50\n",
      "1875/1875 [==============================] - 5s 2ms/step - loss: 0.1597 - accuracy: 0.9397\n",
      "Epoch 21/50\n",
      "1875/1875 [==============================] - 5s 2ms/step - loss: 0.1532 - accuracy: 0.9431\n",
      "Epoch 22/50\n",
      "1875/1875 [==============================] - 5s 2ms/step - loss: 0.1476 - accuracy: 0.9447\n",
      "Epoch 23/50\n",
      "1875/1875 [==============================] - 4s 2ms/step - loss: 0.1449 - accuracy: 0.9463\n",
      "Epoch 24/50\n",
      "1875/1875 [==============================] - 5s 2ms/step - loss: 0.1412 - accuracy: 0.9463\n",
      "Epoch 25/50\n",
      "1875/1875 [==============================] - 5s 2ms/step - loss: 0.1351 - accuracy: 0.9496\n",
      "Epoch 26/50\n",
      "1875/1875 [==============================] - 4s 2ms/step - loss: 0.1338 - accuracy: 0.9489\n",
      "Epoch 27/50\n",
      "1875/1875 [==============================] - 5s 2ms/step - loss: 0.1305 - accuracy: 0.9511\n",
      "Epoch 28/50\n",
      "1875/1875 [==============================] - 5s 2ms/step - loss: 0.1286 - accuracy: 0.9525\n",
      "Epoch 29/50\n",
      "1875/1875 [==============================] - 5s 3ms/step - loss: 0.1240 - accuracy: 0.9539\n",
      "Epoch 30/50\n",
      "1875/1875 [==============================] - 5s 2ms/step - loss: 0.1207 - accuracy: 0.9541\n",
      "Epoch 31/50\n",
      "1875/1875 [==============================] - 5s 3ms/step - loss: 0.1182 - accuracy: 0.9550\n",
      "Epoch 32/50\n",
      "1875/1875 [==============================] - 4s 2ms/step - loss: 0.1156 - accuracy: 0.9568\n",
      "Epoch 33/50\n",
      "1875/1875 [==============================] - 5s 2ms/step - loss: 0.1139 - accuracy: 0.9571\n",
      "Epoch 34/50\n",
      "1875/1875 [==============================] - 6s 3ms/step - loss: 0.1102 - accuracy: 0.9582\n",
      "Epoch 35/50\n",
      "1875/1875 [==============================] - 5s 3ms/step - loss: 0.1088 - accuracy: 0.9590\n",
      "Epoch 36/50\n",
      "1875/1875 [==============================] - 6s 3ms/step - loss: 0.1032 - accuracy: 0.9609\n",
      "Epoch 37/50\n",
      "1875/1875 [==============================] - 5s 3ms/step - loss: 0.1020 - accuracy: 0.9614\n",
      "Epoch 38/50\n",
      "1875/1875 [==============================] - 5s 2ms/step - loss: 0.1029 - accuracy: 0.9613\n",
      "Epoch 39/50\n",
      "1875/1875 [==============================] - 5s 2ms/step - loss: 0.0962 - accuracy: 0.9634\n",
      "Epoch 40/50\n",
      "1875/1875 [==============================] - 5s 2ms/step - loss: 0.0962 - accuracy: 0.9630\n",
      "Epoch 41/50\n",
      "1875/1875 [==============================] - 5s 2ms/step - loss: 0.0965 - accuracy: 0.9639\n",
      "Epoch 42/50\n",
      "1875/1875 [==============================] - 4s 2ms/step - loss: 0.0891 - accuracy: 0.9661\n",
      "Epoch 43/50\n",
      "1875/1875 [==============================] - 5s 2ms/step - loss: 0.0927 - accuracy: 0.9653\n",
      "Epoch 44/50\n",
      "1875/1875 [==============================] - 4s 2ms/step - loss: 0.0901 - accuracy: 0.9662\n",
      "Epoch 45/50\n",
      "1875/1875 [==============================] - 4s 2ms/step - loss: 0.0860 - accuracy: 0.9684\n",
      "Epoch 46/50\n",
      "1875/1875 [==============================] - 5s 2ms/step - loss: 0.0843 - accuracy: 0.9679\n",
      "Epoch 47/50\n",
      "1875/1875 [==============================] - 5s 2ms/step - loss: 0.0829 - accuracy: 0.9689\n",
      "Epoch 48/50\n",
      "1875/1875 [==============================] - 4s 2ms/step - loss: 0.0820 - accuracy: 0.9686\n",
      "Epoch 49/50\n",
      "1875/1875 [==============================] - 5s 3ms/step - loss: 0.0811 - accuracy: 0.9697\n",
      "Epoch 50/50\n",
      "1875/1875 [==============================] - 5s 2ms/step - loss: 0.0773 - accuracy: 0.9702\n"
     ]
    },
    {
     "data": {
      "text/plain": [
       "<keras.src.callbacks.History at 0x28c4d2100>"
      ]
     },
     "execution_count": 140,
     "metadata": {},
     "output_type": "execute_result"
    }
   ],
   "source": [
    "model.fit(X_train,y_train,epochs=50)"
   ]
  },
  {
   "cell_type": "markdown",
   "metadata": {},
   "source": [
    "## Model testing"
   ]
  },
  {
   "cell_type": "code",
   "execution_count": 141,
   "metadata": {},
   "outputs": [
    {
     "name": "stdout",
     "output_type": "stream",
     "text": [
      "313/313 [==============================] - 0s 991us/step - loss: 0.6062 - accuracy: 0.8949\n",
      "TEST LOSS: 0.6061546206474304\n",
      "TEST ACCURACY: 0.8949000239372253\n"
     ]
    }
   ],
   "source": [
    "test_loss, test_accuracy = model.evaluate(X_test,y_test)\n",
    "print('TEST LOSS:', test_loss)\n",
    "print('TEST ACCURACY:', test_accuracy)"
   ]
  },
  {
   "cell_type": "markdown",
   "metadata": {},
   "source": [
    "## Model prediction"
   ]
  },
  {
   "cell_type": "code",
   "execution_count": 142,
   "metadata": {},
   "outputs": [
    {
     "name": "stdout",
     "output_type": "stream",
     "text": [
      "1/1 [==============================] - 0s 32ms/step\n",
      "[[1.2412436e-38 0.0000000e+00 3.6975430e-34 0.0000000e+00 1.3554801e-33\n",
      "  1.0000000e+00 1.4445991e-38 7.0405895e-35 2.7321853e-27 0.0000000e+00]]\n"
     ]
    },
    {
     "data": {
      "text/plain": [
       "<matplotlib.image.AxesImage at 0x28ccfb550>"
      ]
     },
     "execution_count": 142,
     "metadata": {},
     "output_type": "execute_result"
    },
    {
     "data": {
      "image/png": "[encoded data removed]",
      "text/plain": [
       "<Figure size 640x480 with 1 Axes>"
      ]
     },
     "metadata": {},
     "output_type": "display_data"
    }
   ],
   "source": [
    "idx = randint(0,len(X_test))\n",
    "rand_test_image = X_test[idx]\n",
    "\n",
    "prediction = model.predict(rand_test_image.reshape(1,-1))\n",
    "lbl = np.argmax(prediction[0])\n",
    "print(prediction)\n",
    "plt.xlabel(lbl)\n",
    "plt.imshow(rand_test_image,cmap='gray')"
   ]
  },
  {
   "cell_type": "markdown",
   "metadata": {},
   "source": [
    "## Adding callbacks"
   ]
  },
  {
   "cell_type": "code",
   "execution_count": 157,
   "metadata": {},
   "outputs": [],
   "source": [
    "model = tf.keras.models.Sequential([\n",
    "    tf.keras.layers.Flatten(),\n",
    "    tf.keras.layers.Dense(units=1024,activation=tf.nn.relu),\n",
    "    tf.keras.layers.Dense(units=10,activation=tf.nn.softmax)\n",
    "])"
   ]
  },
  {
   "cell_type": "code",
   "execution_count": 158,
   "metadata": {},
   "outputs": [],
   "source": [
    "model.compile(\n",
    "    optimizer='adam', \n",
    "    loss='sparse_categorical_crossentropy',\n",
    "    metrics=['accuracy']\n",
    "    )"
   ]
  },
  {
   "cell_type": "code",
   "execution_count": 159,
   "metadata": {},
   "outputs": [],
   "source": [
    "class Finish_callback(tf.keras.callbacks.Callback):\n",
    "    def on_epoch_end(self, epoch, logs={}):\n",
    "        if(logs['accuracy'] >= 0.95):\n",
    "            print('\\nCancelling training at epoch', epoch)\n",
    "            self.model.stop_training = True"
   ]
  },
  {
   "cell_type": "code",
   "execution_count": 160,
   "metadata": {},
   "outputs": [],
   "source": [
    "myCallback = Finish_callback()"
   ]
  },
  {
   "cell_type": "code",
   "execution_count": 161,
   "metadata": {},
   "outputs": [
    {
     "name": "stdout",
     "output_type": "stream",
     "text": [
      "Epoch 1/50\n",
      "1875/1875 [==============================] - 4s 2ms/step - loss: 0.4702 - accuracy: 0.8321\n",
      "Epoch 2/50\n",
      "1875/1875 [==============================] - 4s 2ms/step - loss: 0.3579 - accuracy: 0.8691\n",
      "Epoch 3/50\n",
      "1875/1875 [==============================] - 4s 2ms/step - loss: 0.3219 - accuracy: 0.8809\n",
      "Epoch 4/50\n",
      "1875/1875 [==============================] - 4s 2ms/step - loss: 0.2992 - accuracy: 0.8892\n",
      "Epoch 5/50\n",
      "1875/1875 [==============================] - 4s 2ms/step - loss: 0.2780 - accuracy: 0.8954\n",
      "Epoch 6/50\n",
      "1875/1875 [==============================] - 4s 2ms/step - loss: 0.2645 - accuracy: 0.9015\n",
      "Epoch 7/50\n",
      "1875/1875 [==============================] - 3s 2ms/step - loss: 0.2519 - accuracy: 0.9057\n",
      "Epoch 8/50\n",
      "1875/1875 [==============================] - 3s 2ms/step - loss: 0.2406 - accuracy: 0.9087\n",
      "Epoch 9/50\n",
      "1875/1875 [==============================] - 4s 2ms/step - loss: 0.2292 - accuracy: 0.9144\n",
      "Epoch 10/50\n",
      "1875/1875 [==============================] - 4s 2ms/step - loss: 0.2216 - accuracy: 0.9177\n",
      "Epoch 11/50\n",
      "1875/1875 [==============================] - 4s 2ms/step - loss: 0.2116 - accuracy: 0.9203\n",
      "Epoch 12/50\n",
      "1875/1875 [==============================] - 4s 2ms/step - loss: 0.2047 - accuracy: 0.9217\n",
      "Epoch 13/50\n",
      "1875/1875 [==============================] - 4s 2ms/step - loss: 0.1955 - accuracy: 0.9266\n",
      "Epoch 14/50\n",
      "1875/1875 [==============================] - 4s 2ms/step - loss: 0.1897 - accuracy: 0.9288\n",
      "Epoch 15/50\n",
      "1875/1875 [==============================] - 4s 2ms/step - loss: 0.1826 - accuracy: 0.9312\n",
      "Epoch 16/50\n",
      "1875/1875 [==============================] - 4s 2ms/step - loss: 0.1799 - accuracy: 0.9320\n",
      "Epoch 17/50\n",
      "1875/1875 [==============================] - 4s 2ms/step - loss: 0.1706 - accuracy: 0.9350\n",
      "Epoch 18/50\n",
      "1875/1875 [==============================] - 4s 2ms/step - loss: 0.1668 - accuracy: 0.9375\n",
      "Epoch 19/50\n",
      "1875/1875 [==============================] - 4s 2ms/step - loss: 0.1616 - accuracy: 0.9396\n",
      "Epoch 20/50\n",
      "1875/1875 [==============================] - 4s 2ms/step - loss: 0.1552 - accuracy: 0.9410\n",
      "Epoch 21/50\n",
      "1875/1875 [==============================] - 4s 2ms/step - loss: 0.1520 - accuracy: 0.9425\n",
      "Epoch 22/50\n",
      "1875/1875 [==============================] - 4s 2ms/step - loss: 0.1454 - accuracy: 0.9452\n",
      "Epoch 23/50\n",
      "1875/1875 [==============================] - 4s 2ms/step - loss: 0.1424 - accuracy: 0.9458\n",
      "Epoch 24/50\n",
      "1875/1875 [==============================] - 4s 2ms/step - loss: 0.1399 - accuracy: 0.9468\n",
      "Epoch 25/50\n",
      "1875/1875 [==============================] - 4s 2ms/step - loss: 0.1376 - accuracy: 0.9479\n",
      "Epoch 26/50\n",
      "1875/1875 [==============================] - 4s 2ms/step - loss: 0.1319 - accuracy: 0.9498\n",
      "Epoch 27/50\n",
      "1856/1875 [============================>.] - ETA: 0s - loss: 0.1284 - accuracy: 0.9515\n",
      "Cancelling training at epoch 26\n",
      "1875/1875 [==============================] - 4s 2ms/step - loss: 0.1287 - accuracy: 0.9514\n"
     ]
    },
    {
     "data": {
      "text/plain": [
       "<keras.src.callbacks.History at 0x2a1438fa0>"
      ]
     },
     "execution_count": 161,
     "metadata": {},
     "output_type": "execute_result"
    }
   ],
   "source": [
    "model.fit(X_train,y_train, epochs=50, callbacks=[myCallback])"
   ]
  },
  {
   "cell_type": "markdown",
   "metadata": {},
   "source": [
    "The above code runs for 1 extra step becuase we have called the callback function on 'on_epoch_end' ie. code runs for 1 more epoch to check if accuracy has really dropped below desired value"
   ]
  },
  {
   "cell_type": "code",
   "execution_count": 162,
   "metadata": {},
   "outputs": [
    {
     "name": "stdout",
     "output_type": "stream",
     "text": [
      "313/313 [==============================] - 0s 782us/step - loss: 0.4270 - accuracy: 0.8920\n"
     ]
    },
    {
     "data": {
      "text/plain": [
       "[0.42697274684906006, 0.8920000195503235]"
      ]
     },
     "execution_count": 162,
     "metadata": {},
     "output_type": "execute_result"
    }
   ],
   "source": [
    "model.evaluate(X_test,y_test)"
   ]
  },
  {
   "cell_type": "code",
   "execution_count": 170,
   "metadata": {},
   "outputs": [
    {
     "name": "stdout",
     "output_type": "stream",
     "text": [
      "1/1 [==============================] - 0s 12ms/step\n",
      "Actual label 7\n"
     ]
    },
    {
     "data": {
      "image/png": "[encoded data removed]",
      "text/plain": [
       "<Figure size 640x480 with 1 Axes>"
      ]
     },
     "metadata": {},
     "output_type": "display_data"
    }
   ],
   "source": [
    "idx = randint(0,len(X_test))\n",
    "rand_img = X_test[idx]\n",
    "rand_lbl = y_test[idx]\n",
    "\n",
    "pre = model.predict(rand_img.reshape(1,-1))\n",
    "predict_lbl = np.argmax(pre)\n",
    "\n",
    "plt.xlabel(predict_lbl)\n",
    "plt.imshow(rand_img,cmap='gray')\n",
    "print('Actual label',rand_lbl)"
   ]
  },
  {
   "cell_type": "code",
   "execution_count": null,
   "metadata": {},
   "outputs": [],
   "source": []
  }
 ],
 "metadata": {
  "kernelspec": {
   "display_name": "Python 3",
   "language": "python",
   "name": "python3"
  },
  "language_info": {
   "codemirror_mode": {
    "name": "ipython",
    "version": 3
   },
   "file_extension": ".py",
   "mimetype": "text/x-python",
   "name": "python",
   "nbconvert_exporter": "python",
   "pygments_lexer": "ipython3",
   "version": "3.9.6"
  }
 },
 "nbformat": 4,
 "nbformat_minor": 2
}
