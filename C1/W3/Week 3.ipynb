{
 "cells": [
  {
   "cell_type": "markdown",
   "metadata": {},
   "source": [
    "# Implementing Convolutional Neural Networks"
   ]
  },
  {
   "cell_type": "markdown",
   "metadata": {},
   "source": [
    "First, Let us compare with the shallow NN, ie. a MLP on FMNIST dataset"
   ]
  },
  {
   "cell_type": "markdown",
   "metadata": {},
   "source": [
    "## Shallow Neural Network"
   ]
  },
  {
   "cell_type": "markdown",
   "metadata": {},
   "source": [
    "### Defining Imports"
   ]
  },
  {
   "cell_type": "code",
   "execution_count": 1,
   "metadata": {},
   "outputs": [],
   "source": [
    "import tensorflow as tf\n",
    "import numpy as np\n",
    "import matplotlib.pyplot as plt\n",
    "from random import randint"
   ]
  },
  {
   "cell_type": "markdown",
   "metadata": {},
   "source": [
    "### Data preprocessing"
   ]
  },
  {
   "cell_type": "code",
   "execution_count": 2,
   "metadata": {},
   "outputs": [],
   "source": [
    "fmnist = tf.keras.datasets.fashion_mnist\n",
    "(X_train,y_train), (X_test,y_test) = fmnist.load_data()"
   ]
  },
  {
   "cell_type": "code",
   "execution_count": 3,
   "metadata": {},
   "outputs": [],
   "source": [
    "X_train, X_test = X_train / 255, X_test /  255"
   ]
  },
  {
   "cell_type": "code",
   "execution_count": 4,
   "metadata": {},
   "outputs": [
    {
     "data": {
      "text/plain": [
       "<matplotlib.image.AxesImage at 0x289fbfb20>"
      ]
     },
     "execution_count": 4,
     "metadata": {},
     "output_type": "execute_result"
    },
    {
     "data": {
      "image/png": "[encoded data removed]",
      "text/plain": [
       "<Figure size 640x480 with 1 Axes>"
      ]
     },
     "metadata": {},
     "output_type": "display_data"
    }
   ],
   "source": [
    "indx = randint(0, len(X_train))\n",
    "rand_img = X_train[indx]\n",
    "rand_lbl = y_train[indx]\n",
    "\n",
    "plt.xlabel(rand_lbl)\n",
    "plt.imshow(rand_img, cmap='gray')"
   ]
  },
  {
   "cell_type": "markdown",
   "metadata": {},
   "source": [
    "### Model initialization"
   ]
  },
  {
   "cell_type": "code",
   "execution_count": 22,
   "metadata": {},
   "outputs": [],
   "source": [
    "model = tf.keras.Sequential([\n",
    "    tf.keras.layers.Flatten(),\n",
    "    tf.keras.layers.Dense(units=128,activation=tf.nn.relu),\n",
    "    tf.keras.layers.Dense(units=10,activation=tf.nn.sigmoid)\n",
    "])"
   ]
  },
  {
   "cell_type": "code",
   "execution_count": 23,
   "metadata": {},
   "outputs": [],
   "source": [
    "model.compile(optimizer='adam', loss='sparse_categorical_crossentropy',metrics=['accuracy'])"
   ]
  },
  {
   "cell_type": "markdown",
   "metadata": {},
   "source": [
    "### Model Training"
   ]
  },
  {
   "cell_type": "code",
   "execution_count": 24,
   "metadata": {},
   "outputs": [
    {
     "name": "stdout",
     "output_type": "stream",
     "text": [
      "Epoch 1/10\n",
      "1875/1875 [==============================] - 1s 650us/step - loss: 0.5192 - accuracy: 0.8206\n",
      "Epoch 2/10\n",
      "1875/1875 [==============================] - 1s 667us/step - loss: 0.3917 - accuracy: 0.8606\n",
      "Epoch 3/10\n",
      "1875/1875 [==============================] - 1s 610us/step - loss: 0.3503 - accuracy: 0.8731\n",
      "Epoch 4/10\n",
      "1875/1875 [==============================] - 1s 611us/step - loss: 0.3237 - accuracy: 0.8834\n",
      "Epoch 5/10\n",
      "1875/1875 [==============================] - 1s 611us/step - loss: 0.3038 - accuracy: 0.8891\n",
      "Epoch 6/10\n",
      "1875/1875 [==============================] - 1s 620us/step - loss: 0.2875 - accuracy: 0.8945\n",
      "Epoch 7/10\n",
      "1875/1875 [==============================] - 1s 626us/step - loss: 0.2756 - accuracy: 0.8972\n",
      "Epoch 8/10\n",
      "1875/1875 [==============================] - 1s 617us/step - loss: 0.2643 - accuracy: 0.9012\n",
      "Epoch 9/10\n",
      "1875/1875 [==============================] - 1s 614us/step - loss: 0.2527 - accuracy: 0.9060\n",
      "Epoch 10/10\n",
      "1875/1875 [==============================] - 1s 621us/step - loss: 0.2448 - accuracy: 0.9087\n"
     ]
    },
    {
     "data": {
      "text/plain": [
       "<keras.src.callbacks.History at 0x28b6dd640>"
      ]
     },
     "execution_count": 24,
     "metadata": {},
     "output_type": "execute_result"
    }
   ],
   "source": [
    "model.fit(X_train,y_train,epochs=10)"
   ]
  },
  {
   "cell_type": "markdown",
   "metadata": {},
   "source": [
    "### Model Testing"
   ]
  },
  {
   "cell_type": "code",
   "execution_count": 25,
   "metadata": {},
   "outputs": [
    {
     "name": "stdout",
     "output_type": "stream",
     "text": [
      "313/313 [==============================] - 0s 432us/step - loss: 0.3506 - accuracy: 0.8847\n",
      "[0.35062354803085327, 0.8847000002861023]\n"
     ]
    }
   ],
   "source": [
    "result = model.evaluate(X_test,y_test)\n",
    "print(result)"
   ]
  },
  {
   "cell_type": "markdown",
   "metadata": {},
   "source": [
    "88% accuracy on test set is achieved, thus giving us a hint to use a better model to achieve more accuracy"
   ]
  },
  {
   "cell_type": "markdown",
   "metadata": {},
   "source": [
    "## Convolutional Neural Network"
   ]
  },
  {
   "cell_type": "markdown",
   "metadata": {},
   "source": [
    "We will define 2 convolutional & 2 pooling layers in out architecture"
   ]
  },
  {
   "cell_type": "code",
   "execution_count": 5,
   "metadata": {},
   "outputs": [],
   "source": [
    "model = tf.keras.Sequential([\n",
    "    tf.keras.layers.Conv2D(64,(3,3),activation=tf.nn.relu,input_shape=(28,28,1)),\n",
    "    tf.keras.layers.MaxPooling2D(3,3),\n",
    "    tf.keras.layers.Conv2D(64,(3,3),activation=tf.nn.relu),\n",
    "    tf.keras.layers.MaxPooling2D(3,3),\n",
    "\n",
    "    tf.keras.layers.Flatten(),\n",
    "    tf.keras.layers.Dense(units=128,activation=tf.nn.relu),\n",
    "    tf.keras.layers.Dense(units=10,activation=tf.nn.softmax)\n",
    "])"
   ]
  },
  {
   "cell_type": "code",
   "execution_count": 6,
   "metadata": {},
   "outputs": [],
   "source": [
    "model.compile(optimizer='adam',loss='sparse_categorical_crossentropy',metrics=['accuracy'])"
   ]
  },
  {
   "cell_type": "code",
   "execution_count": 7,
   "metadata": {},
   "outputs": [
    {
     "name": "stdout",
     "output_type": "stream",
     "text": [
      "Epoch 1/20\n",
      "1875/1875 [==============================] - 18s 9ms/step - loss: 0.5083 - accuracy: 0.8168\n",
      "Epoch 2/20\n",
      "1875/1875 [==============================] - 18s 10ms/step - loss: 0.3298 - accuracy: 0.8807\n",
      "Epoch 3/20\n",
      "1875/1875 [==============================] - 19s 10ms/step - loss: 0.2870 - accuracy: 0.8941\n",
      "Epoch 4/20\n",
      "1875/1875 [==============================] - 19s 10ms/step - loss: 0.2609 - accuracy: 0.9031\n",
      "Epoch 5/20\n",
      "1875/1875 [==============================] - 21s 11ms/step - loss: 0.2410 - accuracy: 0.9114\n",
      "Epoch 6/20\n",
      "1875/1875 [==============================] - 21s 11ms/step - loss: 0.2241 - accuracy: 0.9178\n",
      "Epoch 7/20\n",
      "1875/1875 [==============================] - 19s 10ms/step - loss: 0.2103 - accuracy: 0.9222\n",
      "Epoch 8/20\n",
      "1875/1875 [==============================] - 24s 13ms/step - loss: 0.1967 - accuracy: 0.9276\n",
      "Epoch 9/20\n",
      "1875/1875 [==============================] - 20s 11ms/step - loss: 0.1839 - accuracy: 0.9311\n",
      "Epoch 10/20\n",
      "1875/1875 [==============================] - 24s 13ms/step - loss: 0.1730 - accuracy: 0.9366\n",
      "Epoch 11/20\n",
      "1875/1875 [==============================] - 20s 11ms/step - loss: 0.1642 - accuracy: 0.9390\n",
      "Epoch 12/20\n",
      "1875/1875 [==============================] - 20s 11ms/step - loss: 0.1543 - accuracy: 0.9427\n",
      "Epoch 13/20\n",
      "1875/1875 [==============================] - 23s 12ms/step - loss: 0.1454 - accuracy: 0.9445\n",
      "Epoch 14/20\n",
      "1875/1875 [==============================] - 22s 11ms/step - loss: 0.1382 - accuracy: 0.9488\n",
      "Epoch 15/20\n",
      "1875/1875 [==============================] - 20s 11ms/step - loss: 0.1308 - accuracy: 0.9510\n",
      "Epoch 16/20\n",
      "1875/1875 [==============================] - 21s 11ms/step - loss: 0.1228 - accuracy: 0.9531\n",
      "Epoch 17/20\n",
      "1875/1875 [==============================] - 21s 11ms/step - loss: 0.1165 - accuracy: 0.9554\n",
      "Epoch 18/20\n",
      "1875/1875 [==============================] - 22s 12ms/step - loss: 0.1094 - accuracy: 0.9586\n",
      "Epoch 19/20\n",
      "1875/1875 [==============================] - 21s 11ms/step - loss: 0.1048 - accuracy: 0.9605\n",
      "Epoch 20/20\n",
      "1875/1875 [==============================] - 21s 11ms/step - loss: 0.0989 - accuracy: 0.9623\n"
     ]
    },
    {
     "data": {
      "text/plain": [
       "<keras.src.callbacks.History at 0x28b92ceb0>"
      ]
     },
     "execution_count": 7,
     "metadata": {},
     "output_type": "execute_result"
    }
   ],
   "source": [
    "model.fit(X_train,y_train,epochs=20)"
   ]
  },
  {
   "cell_type": "code",
   "execution_count": 8,
   "metadata": {},
   "outputs": [
    {
     "name": "stdout",
     "output_type": "stream",
     "text": [
      "313/313 [==============================] - 1s 4ms/step - loss: 0.3582 - accuracy: 0.9086\n"
     ]
    },
    {
     "data": {
      "text/plain": [
       "[0.35816165804862976, 0.9085999727249146]"
      ]
     },
     "execution_count": 8,
     "metadata": {},
     "output_type": "execute_result"
    }
   ],
   "source": [
    "model.evaluate(X_test,y_test)"
   ]
  },
  {
   "cell_type": "code",
   "execution_count": 9,
   "metadata": {},
   "outputs": [
    {
     "name": "stdout",
     "output_type": "stream",
     "text": [
      "Model: \"sequential\"\n",
      "_________________________________________________________________\n",
      " Layer (type)                Output Shape              Param #   \n",
      "=================================================================\n",
      " conv2d (Conv2D)             (None, 26, 26, 64)        640       \n",
      "                                                                 \n",
      " max_pooling2d (MaxPooling2  (None, 8, 8, 64)          0         \n",
      " D)                                                              \n",
      "                                                                 \n",
      " conv2d_1 (Conv2D)           (None, 6, 6, 64)          36928     \n",
      "                                                                 \n",
      " max_pooling2d_1 (MaxPoolin  (None, 2, 2, 64)          0         \n",
      " g2D)                                                            \n",
      "                                                                 \n",
      " flatten (Flatten)           (None, 256)               0         \n",
      "                                                                 \n",
      " dense (Dense)               (None, 128)               32896     \n",
      "                                                                 \n",
      " dense_1 (Dense)             (None, 10)                1290      \n",
      "                                                                 \n",
      "=================================================================\n",
      "Total params: 71754 (280.29 KB)\n",
      "Trainable params: 71754 (280.29 KB)\n",
      "Non-trainable params: 0 (0.00 Byte)\n",
      "_________________________________________________________________\n"
     ]
    }
   ],
   "source": [
    "model.summary()"
   ]
  },
  {
   "cell_type": "code",
   "execution_count": null,
   "metadata": {},
   "outputs": [],
   "source": []
  }
 ],
 "metadata": {
  "kernelspec": {
   "display_name": "Python 3",
   "language": "python",
   "name": "python3"
  },
  "language_info": {
   "codemirror_mode": {
    "name": "ipython",
    "version": 3
   },
   "file_extension": ".py",
   "mimetype": "text/x-python",
   "name": "python",
   "nbconvert_exporter": "python",
   "pygments_lexer": "ipython3",
   "version": "3.9.6"
  }
 },
 "nbformat": 4,
 "nbformat_minor": 2
}
